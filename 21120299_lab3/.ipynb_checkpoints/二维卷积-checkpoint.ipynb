{
 "cells": [
  {
   "cell_type": "markdown",
   "id": "recorded-combination",
   "metadata": {},
   "source": [
    "# 手写二维卷积"
   ]
  },
  {
   "cell_type": "code",
   "execution_count": 1,
   "id": "living-criticism",
   "metadata": {},
   "outputs": [],
   "source": [
    "import os\n",
    "from os import listdir\n",
    "from os.path import join\n",
    "from PIL import Image\n",
    "import matplotlib.pyplot as plt\n",
    "import numpy as np\n",
    "import torch\n",
    "import time\n",
    "import torchvision\n",
    "import torch.optim as optim\n",
    "from torch import nn\n",
    "import torch.nn.functional as F\n",
    "import torchvision.transforms as transforms\n",
    "from torch.utils import data"
   ]
  },
  {
   "cell_type": "code",
   "execution_count": 2,
   "id": "instant-moore",
   "metadata": {},
   "outputs": [],
   "source": [
    "def corr2d(X, K):\n",
    "    batch_size,H,W = X.shape\n",
    "    k_h, k_w = K.shape\n",
    "    Y = torch.zeros((batch_size,H-k_h+1, W-k_w+1)).to(device)\n",
    "    for i in range(Y.shape[1]):\n",
    "        for j in range(Y.shape[2]):\n",
    "            Y[:,i, j] = (X[:,i: i + k_h, j: j + k_w] * K).sum()\n",
    "    return Y"
   ]
  },
  {
   "cell_type": "code",
   "execution_count": 3,
   "id": "acoustic-court",
   "metadata": {},
   "outputs": [],
   "source": [
    "def corr2d_multi_in(X, K):\n",
    "    res = corr2d(X[:,0, :, :], K[0, :, :])\n",
    "    for i in range(1, X.shape[1]):\n",
    "        res += corr2d(X[:,i, :, :], K[i, :, :])\n",
    "    return res"
   ]
  },
  {
   "cell_type": "code",
   "execution_count": 4,
   "id": "corresponding-authorization",
   "metadata": {},
   "outputs": [],
   "source": [
    "def corr2d_multi_in_out(X, K):\n",
    "    return torch.stack([corr2d_multi_in(X, k) for k in K],dim=1)"
   ]
  },
  {
   "cell_type": "code",
   "execution_count": 5,
   "id": "removed-dependence",
   "metadata": {},
   "outputs": [],
   "source": [
    "class MyConv2D(nn.Module):\n",
    "    def __init__(self,in_channels,out_channels,kernel_size):\n",
    "        super(MyConv2D,self).__init__()\n",
    "        if isinstance(kernel_size,int):\n",
    "            kernel_size = (kernel_size,kernel_size)\n",
    "        self.weight = nn.Parameter(torch.randn((out_channels,in_channels)+kernel_size))\n",
    "        self.bias = nn.Parameter(torch.randn(out_channels,1,1))\n",
    "    def forward(self,x):\n",
    "        return corr2d_multi_in_out(x,self.weight)+self.bias"
   ]
  },
  {
   "cell_type": "code",
   "execution_count": 6,
   "id": "laughing-level",
   "metadata": {},
   "outputs": [],
   "source": [
    "class MyConvModule(nn.Module):\n",
    "    def __init__(self):\n",
    "        super(MyConvModule,self).__init__()\n",
    "        self.conv = nn.Sequential(\n",
    "            MyConv2D(in_channels=3,out_channels=32,kernel_size=3),\n",
    "            nn.BatchNorm2d(32),\n",
    "            nn.ReLU(inplace=True)\n",
    "        )\n",
    "        self.fc = nn.Linear(32,num_classes)\n",
    "    def forward(self,X):\n",
    "        out = self.conv(X)\n",
    "        out = F.avg_pool2d(out,30)\n",
    "        out = out.squeeze()\n",
    "        out = self.fc(out)\n",
    "        return out"
   ]
  },
  {
   "cell_type": "code",
   "execution_count": 7,
   "id": "bizarre-ethernet",
   "metadata": {},
   "outputs": [],
   "source": [
    "def train_epoch(net,data_loader,device):\n",
    "    net.train()\n",
    "    train_batch_num = len(data_loader)\n",
    "    total_loss = 0\n",
    "    correct = 0\n",
    "    sample_num = 0\n",
    "    for batch_idx,(data,target) in enumerate(data_loader):\n",
    "        data = data.to(device).float()\n",
    "        target = target.to(device).long()\n",
    "        optimizer.zero_grad()\n",
    "        output = net(data)\n",
    "        loss = criterion(output,target)\n",
    "        loss.backward()\n",
    "        optimizer.step()\n",
    "        total_loss += loss.item()\n",
    "        prediction = torch.argmax(output,1)\n",
    "        correct += (prediction == target).sum().item()\n",
    "        sample_num += len(prediction)\n",
    "    loss = total_loss / train_batch_num\n",
    "    acc = correct / sample_num\n",
    "    return loss,acc"
   ]
  },
  {
   "cell_type": "code",
   "execution_count": 8,
   "id": "respiratory-bacteria",
   "metadata": {},
   "outputs": [],
   "source": [
    "def test_epoch(net,data_loader,device):\n",
    "    net.eval()\n",
    "    test_batch_num = len(data_loader)\n",
    "    total_loss = 0\n",
    "    correct = 0\n",
    "    sample_num = 0\n",
    "    with torch.no_grad():\n",
    "        for batch_idx, (data, target) in enumerate(data_loader):\n",
    "            data = data.to(device).float()\n",
    "            target = target.to(device).long()\n",
    "            output = net(data)\n",
    "            loss = criterion(output, target)\n",
    "            total_loss += loss.item()\n",
    "            prediction = torch.argmax(output, 1)\n",
    "            correct += (prediction == target).sum().item()\n",
    "            sample_num += len(prediction)\n",
    "    loss = total_loss / test_batch_num\n",
    "    acc = correct / sample_num\n",
    "    return loss, acc"
   ]
  },
  {
   "cell_type": "markdown",
   "id": "urban-thomson",
   "metadata": {},
   "source": [
    "## 划分训练集和测试集（8:2）"
   ]
  },
  {
   "cell_type": "code",
   "execution_count": 9,
   "id": "unauthorized-median",
   "metadata": {},
   "outputs": [],
   "source": [
    "def is_image_file(filename):\n",
    "    return any(filename.endswith(extension) for extension in [\".png\", \".jpg\", \".jpeg\"])"
   ]
  },
  {
   "cell_type": "code",
   "execution_count": 10,
   "id": "broadband-documentation",
   "metadata": {},
   "outputs": [],
   "source": [
    "image_dirs = [r'./车辆分类数据集/bus/',r'./车辆分类数据集/car/',r'./车辆分类数据集/truck/']\n",
    "train_list = []\n",
    "test_list = []\n",
    "for image_dir in image_dirs:\n",
    "    image_filenames = [join(image_dir, x) for x in listdir(image_dir) if is_image_file(x)]\n",
    "    list_len = len(image_filenames)\n",
    "    for id, image_filename in enumerate(image_filenames):\n",
    "        if (id + 1) / list_len <= 0.8:\n",
    "            train_list.append(image_filename)\n",
    "        else:\n",
    "            test_list.append(image_filename)"
   ]
  },
  {
   "cell_type": "code",
   "execution_count": 11,
   "id": "pregnant-sheep",
   "metadata": {},
   "outputs": [],
   "source": [
    "for image in train_list:\n",
    "    img = Image.open(image)\n",
    "    filename = image.split('/')[-1]\n",
    "    if 'bus' in filename:\n",
    "        prefix = 'bus/' \n",
    "    elif 'car' in filename:\n",
    "        prefix = 'car/'\n",
    "    else:\n",
    "        prefix = 'truck/'\n",
    "    img.save(r'./车辆分类数据集/train/'+prefix+filename)\n",
    "\n",
    "for image in test_list:\n",
    "    img = Image.open(image)\n",
    "    filename = image.split('/')[-1]\n",
    "    if 'bus' in filename:\n",
    "        prefix = 'bus/' \n",
    "    elif 'car' in filename:\n",
    "        prefix = 'car/'\n",
    "    else:\n",
    "        prefix = 'truck/'\n",
    "    img.save(r'./车辆分类数据集/test/'+prefix+filename)"
   ]
  },
  {
   "cell_type": "code",
   "execution_count": 12,
   "id": "subjective-reform",
   "metadata": {},
   "outputs": [],
   "source": [
    "path_train = r'./车辆分类数据集/train/'  # 路径\n",
    "path_test = r'./车辆分类数据集/test/'  # 路径\n",
    "\n",
    "train = torchvision.datasets.ImageFolder(path_train, transform=transforms.Compose(\n",
    "    [transforms.Resize((32, 32)), transforms.CenterCrop(32), transforms.ToTensor()]))\n",
    "test =torchvision.datasets.ImageFolder(path_test, transform=transforms.Compose(\n",
    "    [transforms.Resize((32, 32)), transforms.CenterCrop(32), transforms.ToTensor()]))"
   ]
  },
  {
   "cell_type": "code",
   "execution_count": 13,
   "id": "prerequisite-siemens",
   "metadata": {},
   "outputs": [
    {
     "name": "stdout",
     "output_type": "stream",
     "text": [
      "{'bus': 0, 'car': 1, 'truck': 2}\n"
     ]
    }
   ],
   "source": [
    "print(train.class_to_idx)"
   ]
  },
  {
   "cell_type": "code",
   "execution_count": 14,
   "id": "amino-gibson",
   "metadata": {},
   "outputs": [],
   "source": [
    "classes = ('bus','car','truck')\n",
    "num_classes = 3\n",
    "epochs = 15\n",
    "lr = 0.001\n",
    "batch_size = 512\n",
    "device=torch.device(\"cpu\")\n",
    "train_loader = torch.utils.data.DataLoader(train,batch_size=batch_size,shuffle=True,num_workers=0)\n",
    "test_loader = torch.utils.data.DataLoader(test,batch_size=batch_size,shuffle=True,num_workers=0)"
   ]
  },
  {
   "cell_type": "code",
   "execution_count": 15,
   "id": "gothic-disorder",
   "metadata": {},
   "outputs": [],
   "source": [
    "net = MyConvModule().to(device)\n",
    "criterion = nn.CrossEntropyLoss()\n",
    "optimizer = optim.Adam(net.parameters(),lr=lr)"
   ]
  },
  {
   "cell_type": "code",
   "execution_count": 16,
   "id": "effective-murray",
   "metadata": {},
   "outputs": [
    {
     "name": "stdout",
     "output_type": "stream",
     "text": [
      "epoch:1\t train_loss:1.23022\ttrain_acc:0.26544\ttest_loss:2.25749\t test_acc:0.26471\n",
      "epoch:2\t train_loss:1.20953\ttrain_acc:0.26544\ttest_loss:1.48195\t test_acc:0.26471\n",
      "epoch:3\t train_loss:1.18469\ttrain_acc:0.26544\ttest_loss:1.27366\t test_acc:0.26471\n",
      "epoch:4\t train_loss:1.15599\ttrain_acc:0.26544\ttest_loss:1.19017\t test_acc:0.26471\n",
      "epoch:5\t train_loss:1.12939\ttrain_acc:0.26544\ttest_loss:1.13937\t test_acc:0.26471\n",
      "epoch:6\t train_loss:1.11142\ttrain_acc:0.26544\ttest_loss:1.10145\t test_acc:0.26471\n",
      "epoch:7\t train_loss:1.08649\ttrain_acc:0.26544\ttest_loss:1.06995\t test_acc:0.26471\n",
      "epoch:8\t train_loss:1.06630\ttrain_acc:0.26544\ttest_loss:1.04388\t test_acc:0.57353\n",
      "epoch:9\t train_loss:1.04583\ttrain_acc:0.40922\ttest_loss:1.02205\t test_acc:0.57353\n",
      "epoch:10\t train_loss:1.03442\ttrain_acc:0.57419\ttest_loss:1.00425\t test_acc:0.57353\n",
      "epoch:11\t train_loss:1.02641\ttrain_acc:0.57419\ttest_loss:0.99059\t test_acc:0.57353\n",
      "epoch:12\t train_loss:1.01764\ttrain_acc:0.57419\ttest_loss:0.98082\t test_acc:0.57353\n",
      "epoch:13\t train_loss:1.00915\ttrain_acc:0.57419\ttest_loss:0.97402\t test_acc:0.57353\n",
      "epoch:14\t train_loss:0.98763\ttrain_acc:0.57419\ttest_loss:0.96942\t test_acc:0.57353\n",
      "epoch:15\t train_loss:0.99747\ttrain_acc:0.57419\ttest_loss:0.96681\t test_acc:0.57353\n"
     ]
    }
   ],
   "source": [
    "train_loss_list = []\n",
    "train_acc_list = []\n",
    "test_loss_list = []\n",
    "test_acc_list = []\n",
    "begin = time.time()\n",
    "for epoch in range(epochs):\n",
    "    train_loss, train_acc = train_epoch(net, data_loader=train_loader,device=device)\n",
    "    test_loss, test_acc = test_epoch(net, data_loader=test_loader, device=device)\n",
    "    train_loss_list.append(train_loss)\n",
    "    train_acc_list.append(train_acc)\n",
    "    test_loss_list.append(test_loss)\n",
    "    test_acc_list.append(test_acc)\n",
    "    if (epoch + 1) % 1 == 0:\n",
    "        print(f\"epoch:{epoch+1}\\t train_loss:{train_loss:.5f}\\t\"\n",
    "              f\"train_acc:{train_acc:.5f}\\t\"\n",
    "              f\"test_loss:{test_loss:.5f}\\t test_acc:{test_acc:.5f}\")"
   ]
  },
  {
   "cell_type": "code",
   "execution_count": 17,
   "id": "enhanced-intervention",
   "metadata": {},
   "outputs": [
    {
     "data": {
      "image/png": "[encoded data removed]",
      "text/plain": [
       "<Figure size 1080x648 with 1 Axes>"
      ]
     },
     "metadata": {
      "needs_background": "light"
     },
     "output_type": "display_data"
    }
   ],
   "source": [
    "def Draw_Loss_Curve():\n",
    "    plt.figure(figsize=(15, 9))\n",
    "    plt.xlabel(\"epoch\")\n",
    "    plt.ylabel(\"loss\")\n",
    "    plt.title(\"Loss Function\")\n",
    "    x_loss = np.linspace(0, len(train_loss_list), len(train_loss_list))\n",
    "    plt.plot(x_loss, train_loss_list, label=u'Train Loss', linewidth=1.5)\n",
    "    plt.plot(x_loss, test_loss_list, label=u'Test Loss', linewidth=1.5)\n",
    "    plt.legend()\n",
    "    plt.show()\n",
    "Draw_Loss_Curve()"
   ]
  },
  {
   "cell_type": "code",
   "execution_count": 18,
   "id": "commercial-conversion",
   "metadata": {},
   "outputs": [
    {
     "data": {
      "image/png": "[encoded data removed]",
      "text/plain": [
       "<Figure size 1080x648 with 1 Axes>"
      ]
     },
     "metadata": {
      "needs_background": "light"
     },
     "output_type": "display_data"
    }
   ],
   "source": [
    "def Draw_Acc_Curve():\n",
    "    plt.figure(figsize=(15, 9))\n",
    "    plt.xlabel(\"epoch\")\n",
    "    plt.ylabel(\"acc\")\n",
    "    plt.title(\"Accuracy\")\n",
    "    x_acc = np.linspace(0, len(train_acc_list), len(train_acc_list))\n",
    "    plt.plot(x_acc, train_acc_list, label=\"train_acc\", linewidth=1.5)\n",
    "    plt.plot(x_acc, test_acc_list, label=\"test_acc\", linewidth=1.5)\n",
    "    plt.legend()\n",
    "    plt.show()\n",
    "Draw_Acc_Curve()"
   ]
  },
  {
   "cell_type": "code",
   "execution_count": 19,
   "id": "advance-friend",
   "metadata": {},
   "outputs": [
    {
     "name": "stdout",
     "output_type": "stream",
     "text": [
      "983.0412149429321\n"
     ]
    }
   ],
   "source": [
    "end = time.time()\n",
    "print(end-begin)"
   ]
  },
  {
   "cell_type": "code",
   "execution_count": null,
   "id": "after-pepper",
   "metadata": {},
   "outputs": [],
   "source": []
  }
 ],
 "metadata": {
  "kernelspec": {
   "display_name": "Python 3 (ipykernel)",
   "language": "python",
   "name": "python3"
  },
  "language_info": {
   "codemirror_mode": {
    "name": "ipython",
    "version": 3
   },
   "file_extension": ".py",
   "mimetype": "text/x-python",
   "name": "python",
   "nbconvert_exporter": "python",
   "pygments_lexer": "ipython3",
   "version": "3.9.6"
  }
 },
 "nbformat": 4,
 "nbformat_minor": 5
}
