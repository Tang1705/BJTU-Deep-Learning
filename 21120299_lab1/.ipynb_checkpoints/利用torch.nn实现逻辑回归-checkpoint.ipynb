{
 "cells": [
  {
   "cell_type": "markdown",
   "metadata": {
    "ExecuteTime": {
     "end_time": "2020-07-02T03:59:23.109670Z",
     "start_time": "2020-07-02T03:59:23.105078Z"
    }
   },
   "source": [
    "# 使用torch.nn实现逻辑回归"
   ]
  },
  {
   "cell_type": "code",
   "execution_count": 30,
   "metadata": {
    "ExecuteTime": {
     "end_time": "2020-07-02T05:12:04.775760Z",
     "start_time": "2020-07-02T05:12:04.769966Z"
    }
   },
   "outputs": [],
   "source": [
    "import torch\n",
    "import torch.nn as nn\n",
    "import random\n",
    "from torch.autograd import Variable\n",
    "import platform\n",
    "import numpy as np\n",
    "import torch.utils.data as Data\n",
    "import matplotlib.pyplot as plt"
   ]
  },
  {
   "cell_type": "markdown",
   "metadata": {},
   "source": [
    "## 1 人工构造数据集"
   ]
  },
  {
   "cell_type": "code",
   "execution_count": 31,
   "metadata": {
    "ExecuteTime": {
     "end_time": "2020-07-02T05:12:05.237815Z",
     "start_time": "2020-07-02T05:12:05.231333Z"
    }
   },
   "outputs": [],
   "source": [
    "n_data = torch.ones(150, 2) # 数据的基本形态\n",
    "x1 = torch.normal(2 * n_data, 1) # shape=(150, 2)\n",
    "y1 = torch.zeros(150, 1) # 类型0 shape=(150, 1)\n",
    "x2 = torch.normal(-2 * n_data, 1) # 类型1 shape=(150, 2) \n",
    "y2 = torch.ones(150, 1) # 类型1 shape=(150, 1)\n",
    "# 注意 x, y 数据的数据形式是一定要像下面一样 (torch.cat 是在合并数据)\n",
    "x = torch.cat((x1, x2), 0).type(torch.FloatTensor)\n",
    "y = torch.cat((y1, y2), 0).type(torch.FloatTensor)"
   ]
  },
  {
   "cell_type": "code",
   "execution_count": 32,
   "metadata": {
    "ExecuteTime": {
     "end_time": "2020-07-02T05:12:05.563551Z",
     "start_time": "2020-07-02T05:12:05.378559Z"
    }
   },
   "outputs": [
    {
     "data": {
      "text/plain": [
       "<matplotlib.legend.Legend at 0x16a489100>"
      ]
     },
     "execution_count": 32,
     "metadata": {},
     "output_type": "execute_result"
    },
    {
     "data": {
      "image/png": "[encoded data removed]",
      "text/plain": [
       "<Figure size 432x288 with 1 Axes>"
      ]
     },
     "metadata": {
      "needs_background": "light"
     },
     "output_type": "display_data"
    }
   ],
   "source": [
    "fig, ax = plt.subplots()\n",
    "labels = ['class 0','class 1']\n",
    "ax.scatter(x.numpy()[0:len(x1),0], x.numpy()[0:len(x1),1], label=labels[0])\n",
    "ax.scatter(x.numpy()[len(x1):len(x),0], x.numpy()[len(x1):len(x),1], label=labels[1])\n",
    "ax.legend()"
   ]
  },
  {
   "cell_type": "code",
   "execution_count": 33,
   "metadata": {},
   "outputs": [],
   "source": [
    "def shuffle_data(X, y, seed=None):\n",
    "    if seed:\n",
    "        np.random.seed(seed)\n",
    "        \n",
    "    idx = np.arange(X.shape[0])\n",
    "    np.random.shuffle(idx)\n",
    "    \n",
    "    return X[idx], y[idx]"
   ]
  },
  {
   "cell_type": "code",
   "execution_count": 34,
   "metadata": {},
   "outputs": [],
   "source": [
    "def train_test_split(X, y, test_size=0.2, shuffle=True, seed=None):\n",
    "    if shuffle:\n",
    "        X, y = shuffle_data(X, y, seed)\n",
    "        \n",
    "    n_train_samples = int(X.shape[0] * (1-test_size))\n",
    "    x_train, x_test = X[:n_train_samples], X[n_train_samples:]\n",
    "    y_train, y_test = y[:n_train_samples], y[n_train_samples:]\n",
    "    \n",
    "    return x_train, x_test, y_train, y_test"
   ]
  },
  {
   "cell_type": "code",
   "execution_count": 35,
   "metadata": {},
   "outputs": [],
   "source": [
    " X_train, X_test, y_train, y_test = train_test_split(x, y, test_size=0.3,shuffle=False,seed=1)"
   ]
  },
  {
   "cell_type": "code",
   "execution_count": 36,
   "metadata": {},
   "outputs": [],
   "source": [
    "batch_size = 10\n",
    "system = platform.system()\n",
    "num_workers = 4 if system == 'Linux' else 0\n",
    "dataset = Data.TensorDataset(X_train, y_train)\n",
    "data_iter = Data.DataLoader(\n",
    "    dataset=dataset, # torch TensorDataset format\n",
    "    batch_size=batch_size, # mini batch size\n",
    "    shuffle=True, # 是否打乱数据 (训练集一般需要进行打乱) \n",
    "    num_workers=num_workers, # 多线程来读数据，注意在Windows下需要设置为0\n",
    ")"
   ]
  },
  {
   "cell_type": "markdown",
   "metadata": {},
   "source": [
    "## 2 定义模型"
   ]
  },
  {
   "cell_type": "code",
   "execution_count": 37,
   "metadata": {
    "ExecuteTime": {
     "end_time": "2020-07-02T05:12:06.219062Z",
     "start_time": "2020-07-02T05:12:06.209024Z"
    }
   },
   "outputs": [],
   "source": [
    "class LogisticNet(torch.nn.Module):\n",
    "    def __init__(self, features):\n",
    "        super(LogisticNet, self).__init__()\n",
    "        self.linear = nn.Linear(2,1)\n",
    "        self.sigmoid = nn.Sigmoid()\n",
    "        \n",
    "    def forward(self, x):\n",
    "        y = self.linear(x)\n",
    "        y = self.sigmoid(y)\n",
    "        return y"
   ]
  },
  {
   "cell_type": "code",
   "execution_count": 38,
   "metadata": {},
   "outputs": [],
   "source": [
    "logistic_model = LogisticNet(2)"
   ]
  },
  {
   "cell_type": "markdown",
   "metadata": {},
   "source": [
    "## 3 定义损失函数和优化器"
   ]
  },
  {
   "cell_type": "code",
   "execution_count": 39,
   "metadata": {
    "ExecuteTime": {
     "end_time": "2020-07-02T05:12:07.193510Z",
     "start_time": "2020-07-02T05:12:07.186947Z"
    }
   },
   "outputs": [],
   "source": [
    "criterion = nn.BCELoss()   #选用BCE损失函数,该损失函数是只用于2分类问题的损失函数\n",
    "optimizer = torch.optim.SGD(logistic_model.parameters(),lr=1e-3,momentum=0.9)  #采用随机梯度下降的方法"
   ]
  },
  {
   "cell_type": "markdown",
   "metadata": {},
   "source": [
    "## 4 训练模型"
   ]
  },
  {
   "cell_type": "code",
   "execution_count": 40,
   "metadata": {
    "ExecuteTime": {
     "end_time": "2020-07-02T05:12:08.458013Z",
     "start_time": "2020-07-02T05:12:07.929910Z"
    },
    "scrolled": false
   },
   "outputs": [
    {
     "name": "stdout",
     "output_type": "stream",
     "text": [
      "**********\n",
      "epoch 5\n",
      "loss is 0.1064\n",
      "acc is 1.0000\n",
      "**********\n",
      "epoch 10\n",
      "loss is 0.0896\n",
      "acc is 1.0000\n",
      "**********\n",
      "epoch 15\n",
      "loss is 0.0566\n",
      "acc is 1.0000\n",
      "**********\n",
      "epoch 20\n",
      "loss is 0.0890\n",
      "acc is 1.0000\n"
     ]
    }
   ],
   "source": [
    "num_epochs = 20\n",
    "for epoch in range(num_epochs): # 训练模型一共需要num_epochs个迭代周期\n",
    "# 在每一个迭代周期中，会使用训练数据集中所有样本一次\n",
    "    for X, Y in data_iter:\n",
    "        if torch.cuda.is_available():\n",
    "            x_data=Variable(X).cuda()\n",
    "            y_data=Variable(Y).cuda()\n",
    "        else:\n",
    "            x_data=Variable(X)\n",
    "            y_data=Variable(Y)\n",
    "\n",
    "        out=logistic_model(x_data)  #根据逻辑回归模型拟合出的y值\n",
    "\n",
    "        loss=criterion(out,y_data)  #计算损失函数\n",
    "        print_loss=loss.data.item()  #得出损失函数值\n",
    "        mask=out.ge(0.5).float()  #以0.5为阈值进行分类\n",
    "        correct=(mask==y_data).sum()  #计算正确预测的样本个数\n",
    "        acc=correct.item()/x_data.size(0)  #计算精度\n",
    "        optimizer.zero_grad()\n",
    "        loss.backward()\n",
    "        optimizer.step()\n",
    "        #每隔20轮打印一下当前的误差和精度\n",
    "    if (epoch+1)%5==0:\n",
    "        print('*'*10)\n",
    "        print('epoch {}'.format(epoch+1))  #误差\n",
    "        print('loss is {:.4f}'.format(print_loss))\n",
    "        print('acc is {:.4f}'.format(acc))  #精度"
   ]
  },
  {
   "cell_type": "markdown",
   "metadata": {},
   "source": [
    "## 5 结果可视化"
   ]
  },
  {
   "cell_type": "code",
   "execution_count": 41,
   "metadata": {
    "ExecuteTime": {
     "end_time": "2020-07-02T05:13:02.972392Z",
     "start_time": "2020-07-02T05:13:02.762770Z"
    }
   },
   "outputs": [
    {
     "data": {
      "text/plain": [
       "[<matplotlib.lines.Line2D at 0x16a528dc0>]"
      ]
     },
     "execution_count": 41,
     "metadata": {},
     "output_type": "execute_result"
    },
    {
     "data": {
      "image/png": "[encoded data removed]",
      "text/plain": [
       "<Figure size 432x288 with 1 Axes>"
      ]
     },
     "metadata": {
      "needs_background": "light"
     },
     "output_type": "display_data"
    }
   ],
   "source": [
    "w1, w2 = logistic_model.linear.weight[0]\n",
    "b = logistic_model.linear.bias.item()\n",
    "plot_x = range(-5, 6, 1)\n",
    "plot_y = [-(w1*item+b)/w2 for item in plot_x]\n",
    "\n",
    "fig, ax = plt.subplots()\n",
    "labels = ['class 0','class 1']\n",
    "ax.scatter(x.numpy()[0:len(x1),0], x.numpy()[0:len(x1),1], label=labels[0])\n",
    "ax.scatter(x.numpy()[len(x1):len(x),0], x.numpy()[len(x1):len(x),1], label=labels[1])\n",
    "ax.legend()\n",
    "ax.plot(plot_x, plot_y)"
   ]
  },
  {
   "cell_type": "code",
   "execution_count": 42,
   "metadata": {},
   "outputs": [],
   "source": [
    "def accuracy(y, y_pred):\n",
    "    return y == y_pred"
   ]
  },
  {
   "cell_type": "code",
   "execution_count": 43,
   "metadata": {},
   "outputs": [
    {
     "name": "stdout",
     "output_type": "stream",
     "text": [
      "Test Acc:  1.0\n"
     ]
    }
   ],
   "source": [
    "test_batch_size = 1\n",
    "test_dataset = Data.TensorDataset(X_test, y_test)\n",
    "test_data_iter = Data.DataLoader(\n",
    "    dataset=test_dataset, # torch TensorDataset format\n",
    "    batch_size=test_batch_size, # mini batch size\n",
    "    shuffle=True, # 是否打乱数据 (训练集一般需要进行打乱) \n",
    "    num_workers=2, # 多线程来读数据，注意在Windows下需要设置为0\n",
    ")\n",
    "\n",
    "acc_sum = 0.0\n",
    "for X , Y in test_data_iter: # x和y分别是小批量样本的特征和标签\n",
    "    y_pred=logistic_model(X)\n",
    "    acc_sum+=accuracy(np.round(y_pred.detach().numpy()),Y.detach().numpy())\n",
    "print(\"Test Acc: \",(acc_sum/len(y_test))[0][0])"
   ]
  },
  {
   "cell_type": "code",
   "execution_count": 44,
   "metadata": {},
   "outputs": [
    {
     "data": {
      "text/html": [
       "<div>\n",
       "<style scoped>\n",
       "    .dataframe tbody tr th:only-of-type {\n",
       "        vertical-align: middle;\n",
       "    }\n",
       "\n",
       "    .dataframe tbody tr th {\n",
       "        vertical-align: top;\n",
       "    }\n",
       "\n",
       "    .dataframe thead th {\n",
       "        text-align: right;\n",
       "    }\n",
       "</style>\n",
       "<table border=\"1\" class=\"dataframe\">\n",
       "  <thead>\n",
       "    <tr style=\"text-align: right;\">\n",
       "      <th></th>\n",
       "      <th>Predicted Label</th>\n",
       "      <th>True Label</th>\n",
       "    </tr>\n",
       "  </thead>\n",
       "  <tbody>\n",
       "    <tr>\n",
       "      <th>0</th>\n",
       "      <td>1.0</td>\n",
       "      <td>1.0</td>\n",
       "    </tr>\n",
       "    <tr>\n",
       "      <th>1</th>\n",
       "      <td>1.0</td>\n",
       "      <td>1.0</td>\n",
       "    </tr>\n",
       "    <tr>\n",
       "      <th>2</th>\n",
       "      <td>1.0</td>\n",
       "      <td>1.0</td>\n",
       "    </tr>\n",
       "    <tr>\n",
       "      <th>3</th>\n",
       "      <td>1.0</td>\n",
       "      <td>1.0</td>\n",
       "    </tr>\n",
       "    <tr>\n",
       "      <th>4</th>\n",
       "      <td>1.0</td>\n",
       "      <td>1.0</td>\n",
       "    </tr>\n",
       "    <tr>\n",
       "      <th>...</th>\n",
       "      <td>...</td>\n",
       "      <td>...</td>\n",
       "    </tr>\n",
       "    <tr>\n",
       "      <th>85</th>\n",
       "      <td>1.0</td>\n",
       "      <td>1.0</td>\n",
       "    </tr>\n",
       "    <tr>\n",
       "      <th>86</th>\n",
       "      <td>1.0</td>\n",
       "      <td>1.0</td>\n",
       "    </tr>\n",
       "    <tr>\n",
       "      <th>87</th>\n",
       "      <td>1.0</td>\n",
       "      <td>1.0</td>\n",
       "    </tr>\n",
       "    <tr>\n",
       "      <th>88</th>\n",
       "      <td>1.0</td>\n",
       "      <td>1.0</td>\n",
       "    </tr>\n",
       "    <tr>\n",
       "      <th>89</th>\n",
       "      <td>1.0</td>\n",
       "      <td>1.0</td>\n",
       "    </tr>\n",
       "  </tbody>\n",
       "</table>\n",
       "<p>90 rows × 2 columns</p>\n",
       "</div>"
      ],
      "text/plain": [
       "    Predicted Label  True Label\n",
       "0               1.0         1.0\n",
       "1               1.0         1.0\n",
       "2               1.0         1.0\n",
       "3               1.0         1.0\n",
       "4               1.0         1.0\n",
       "..              ...         ...\n",
       "85              1.0         1.0\n",
       "86              1.0         1.0\n",
       "87              1.0         1.0\n",
       "88              1.0         1.0\n",
       "89              1.0         1.0\n",
       "\n",
       "[90 rows x 2 columns]"
      ]
     },
     "execution_count": 44,
     "metadata": {},
     "output_type": "execute_result"
    }
   ],
   "source": [
    "import pandas as pd\n",
    "pre_label = torch.round(logistic_model(X_test)).detach().numpy()\n",
    "true_label = y_test.detach().numpy()\n",
    "label = np.hstack([pre_label,true_label])\n",
    "df = pd.DataFrame(label,columns=[\"Predicted Label\",\"True Label\"])\n",
    "df"
   ]
  },
  {
   "cell_type": "code",
   "execution_count": null,
   "metadata": {},
   "outputs": [],
   "source": []
  }
 ],
 "metadata": {
  "kernelspec": {
   "display_name": "Python 3 (ipykernel)",
   "language": "python",
   "name": "python3"
  },
  "language_info": {
   "codemirror_mode": {
    "name": "ipython",
    "version": 3
   },
   "file_extension": ".py",
   "mimetype": "text/x-python",
   "name": "python",
   "nbconvert_exporter": "python",
   "pygments_lexer": "ipython3",
   "version": "3.9.6"
  },
  "toc": {
   "base_numbering": 1,
   "nav_menu": {},
   "number_sections": false,
   "sideBar": true,
   "skip_h1_title": true,
   "title_cell": "Table of Contents",
   "title_sidebar": "Contents",
   "toc_cell": false,
   "toc_position": {},
   "toc_section_display": true,
   "toc_window_display": false
  },
  "varInspector": {
   "cols": {
    "lenName": 16,
    "lenType": 16,
    "lenVar": 40
   },
   "kernels_config": {
    "python": {
     "delete_cmd_postfix": "",
     "delete_cmd_prefix": "del ",
     "library": "var_list.py",
     "varRefreshCmd": "print(var_dic_list())"
    },
    "r": {
     "delete_cmd_postfix": ") ",
     "delete_cmd_prefix": "rm(",
     "library": "var_list.r",
     "varRefreshCmd": "cat(var_dic_list()) "
    }
   },
   "types_to_exclude": [
    "module",
    "function",
    "builtin_function_or_method",
    "instance",
    "_Feature"
   ],
   "window_display": false
  }
 },
 "nbformat": 4,
 "nbformat_minor": 2
}
