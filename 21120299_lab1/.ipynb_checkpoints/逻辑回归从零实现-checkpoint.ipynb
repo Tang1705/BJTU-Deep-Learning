{
 "cells": [
  {
   "cell_type": "markdown",
   "metadata": {
    "ExecuteTime": {
     "end_time": "2020-07-02T03:59:23.109670Z",
     "start_time": "2020-07-02T03:59:23.105078Z"
    }
   },
   "source": [
    "# 逻辑回归从零开始实现"
   ]
  },
  {
   "cell_type": "code",
   "execution_count": 2,
   "metadata": {
    "ExecuteTime": {
     "end_time": "2020-07-02T05:17:03.119075Z",
     "start_time": "2020-07-02T05:17:03.113303Z"
    }
   },
   "outputs": [],
   "source": [
    "import torch\n",
    "import random\n",
    "import numpy as np\n",
    "from sklearn import datasets\n",
    "import matplotlib.pyplot as plt"
   ]
  },
  {
   "cell_type": "markdown",
   "metadata": {},
   "source": [
    "## 1 人工构造数据集"
   ]
  },
  {
   "cell_type": "markdown",
   "metadata": {},
   "source": [
    "随机生成实验所需要的二分类数据集 $𝑥_1$ 和 $𝑥_2$ ，分别对应的标签 $𝑦_1$ 和 $𝑦_2$ ."
   ]
  },
  {
   "cell_type": "code",
   "execution_count": 3,
   "metadata": {
    "ExecuteTime": {
     "end_time": "2020-07-02T05:17:40.198242Z",
     "start_time": "2020-07-02T05:17:40.187153Z"
    }
   },
   "outputs": [],
   "source": [
    "n_data = torch.ones(150, 2) # 数据的基本形态\n",
    "x1 = torch.normal(2 * n_data, 1) # shape=(150, 2)\n",
    "y1 = torch.zeros(150, 1) # 类型0 shape=(150, 1)\n",
    "x2 = torch.normal(-2 * n_data, 1) # 类型1 shape=(150, 2) \n",
    "y2 = torch.ones(150, 1) # 类型1 shape=(150, 1)\n",
    "# 注意 x, y 数据的数据形式是一定要像下面一样 (torch.cat 是在合并数据)\n",
    "x = torch.cat((x1, x2), 0).type(torch.FloatTensor)\n",
    "y = torch.cat((y1, y2), 0).type(torch.FloatTensor)"
   ]
  },
  {
   "cell_type": "markdown",
   "metadata": {},
   "source": [
    "使用matplotlib将所构造的数据可视化"
   ]
  },
  {
   "cell_type": "code",
   "execution_count": 4,
   "metadata": {
    "ExecuteTime": {
     "end_time": "2020-07-02T05:17:40.523795Z",
     "start_time": "2020-07-02T05:17:40.305889Z"
    }
   },
   "outputs": [
    {
     "data": {
      "text/plain": [
       "<matplotlib.legend.Legend at 0x17c588670>"
      ]
     },
     "execution_count": 4,
     "metadata": {},
     "output_type": "execute_result"
    },
    {
     "data": {
      "image/png": "[encoded data removed]",
      "text/plain": [
       "<Figure size 432x288 with 1 Axes>"
      ]
     },
     "metadata": {
      "needs_background": "light"
     },
     "output_type": "display_data"
    }
   ],
   "source": [
    "fig, ax = plt.subplots()\n",
    "labels = ['class 0','class 1']\n",
    "ax.scatter(x.numpy()[0:len(x1),0], x.numpy()[0:len(x1),1], label=labels[0])\n",
    "ax.scatter(x.numpy()[len(x1):len(x),0], x.numpy()[len(x1):len(x),1], label=labels[1])\n",
    "ax.legend()"
   ]
  },
  {
   "cell_type": "markdown",
   "metadata": {},
   "source": [
    "划分训练集和测试集（7:3）"
   ]
  },
  {
   "cell_type": "code",
   "execution_count": 5,
   "metadata": {},
   "outputs": [],
   "source": [
    "def shuffle_data(X, y, seed=None):\n",
    "    if seed:\n",
    "        np.random.seed(seed)\n",
    "        \n",
    "    idx = np.arange(X.shape[0])\n",
    "    np.random.shuffle(idx)\n",
    "    \n",
    "    return X[idx], y[idx]"
   ]
  },
  {
   "cell_type": "code",
   "execution_count": 6,
   "metadata": {},
   "outputs": [],
   "source": [
    "def train_test_split(X, y, test_size=0.2, shuffle=True, seed=None):\n",
    "    if shuffle:\n",
    "        X, y = shuffle_data(X, y, seed)\n",
    "        \n",
    "    n_train_samples = int(X.shape[0] * (1-test_size))\n",
    "    x_train, x_test = X[:n_train_samples], X[n_train_samples:]\n",
    "    y_train, y_test = y[:n_train_samples], y[n_train_samples:]\n",
    "    \n",
    "    return x_train, x_test, y_train, y_test"
   ]
  },
  {
   "cell_type": "code",
   "execution_count": 7,
   "metadata": {},
   "outputs": [],
   "source": [
    " X_train, X_test, y_train, y_test = train_test_split(x, y, test_size=0.3, seed=1)"
   ]
  },
  {
   "cell_type": "markdown",
   "metadata": {},
   "source": [
    "读取数据"
   ]
  },
  {
   "cell_type": "code",
   "execution_count": 8,
   "metadata": {},
   "outputs": [],
   "source": [
    "num_inputs = 2 \n",
    "def data_iter(batch_size, features, labels):\n",
    "    num_examples = len(features)\n",
    "    indices = list(range(num_examples)) \n",
    "    random.shuffle(indices) # 样本的读取顺序是随机的 \n",
    "    for i in range(0, num_examples, batch_size):\n",
    "        j = torch.LongTensor(indices[i: min(i + batch_size, num_examples)]) # 最后一次可能不足一 个batch\n",
    "        yield features.index_select(0, j), labels.index_select(0, j)"
   ]
  },
  {
   "cell_type": "markdown",
   "metadata": {},
   "source": [
    "## 2 初始化模型参数"
   ]
  },
  {
   "cell_type": "code",
   "execution_count": 9,
   "metadata": {
    "ExecuteTime": {
     "end_time": "2020-07-02T05:17:36.984278Z",
     "start_time": "2020-07-02T05:17:36.966989Z"
    }
   },
   "outputs": [],
   "source": [
    "w = torch.tensor(np.random.normal(0, 0.01, (num_inputs, 1)), dtype=torch.float32) \n",
    "b = torch.zeros(1, dtype=torch.float32)"
   ]
  },
  {
   "cell_type": "code",
   "execution_count": 10,
   "metadata": {},
   "outputs": [
    {
     "data": {
      "text/plain": [
       "tensor([0.], requires_grad=True)"
      ]
     },
     "execution_count": 10,
     "metadata": {},
     "output_type": "execute_result"
    }
   ],
   "source": [
    "w.requires_grad_(requires_grad=True) \n",
    "b.requires_grad_(requires_grad=True) "
   ]
  },
  {
   "cell_type": "markdown",
   "metadata": {},
   "source": [
    "## 3 定义模型"
   ]
  },
  {
   "cell_type": "markdown",
   "metadata": {},
   "source": [
    "$$p(y=1 \\mid \\mathbf{x})=\\sigma\\left(\\mathbf{w}^{\\mathrm{T}} \\mathbf{x}\\right) \\triangleq \\frac{1}{1+\\exp \\left(-\\mathbf{w}^{\\mathrm{T}} \\mathbf{x}\\right)}$$"
   ]
  },
  {
   "cell_type": "code",
   "execution_count": 11,
   "metadata": {
    "ExecuteTime": {
     "end_time": "2020-07-02T05:17:24.010974Z",
     "start_time": "2020-07-02T05:17:24.006689Z"
    }
   },
   "outputs": [],
   "source": [
    "def logistic_regression(x, w, b):\n",
    "    return 1 / (1 + torch.exp(-1 * (torch.mm(x, w) + b)))"
   ]
  },
  {
   "cell_type": "markdown",
   "metadata": {},
   "source": [
    "## 4 定义优化算法"
   ]
  },
  {
   "cell_type": "markdown",
   "metadata": {},
   "source": [
    "$$\\theta_{j}:=\\theta_{j}-\\alpha \\frac{1}{m} \\sum_{i=1}^{m}\\left(h_{\\theta}\\left(x_{i}\\right)-y_{i}\\right) x_{i}^{j}$$"
   ]
  },
  {
   "cell_type": "code",
   "execution_count": 12,
   "metadata": {
    "ExecuteTime": {
     "end_time": "2020-07-02T05:17:24.391828Z",
     "start_time": "2020-07-02T05:17:24.386350Z"
    }
   },
   "outputs": [],
   "source": [
    "def sgd(params, lr, batch_size):\n",
    "    for param in params:\n",
    "        param.data -= lr * param.grad / batch_size"
   ]
  },
  {
   "cell_type": "markdown",
   "metadata": {},
   "source": [
    "## 5 定义损失函数"
   ]
  },
  {
   "cell_type": "markdown",
   "metadata": {},
   "source": [
    "**BinaryCrossEntropyLoss(BCELoss):**"
   ]
  },
  {
   "cell_type": "markdown",
   "metadata": {},
   "source": [
    "$$\\ell(\\theta)=\\frac{1}{n} \\sum_{i=1}^{n} H\\left(\\hat{y}^{(i)}, y^{(i)}\\right)=-\\frac{1}{n} \\sum_{i=1}^{n} y^{(i)} \\log \\hat{y}^{(i)}+\\left(1-y^{(i)}\\right) \\log \\left(1-\\hat{y}^{(i)}\\right)$$"
   ]
  },
  {
   "cell_type": "code",
   "execution_count": 13,
   "metadata": {
    "ExecuteTime": {
     "end_time": "2020-07-02T06:44:43.063475Z",
     "start_time": "2020-07-02T06:44:43.058090Z"
    }
   },
   "outputs": [],
   "source": [
    "def bce_loss(y_hat, y):\n",
    "    return -1 * (y * torch.log10(y_hat) + (1 - y) * torch.log10(1 - y_hat)) # 单个样本的损失"
   ]
  },
  {
   "cell_type": "markdown",
   "metadata": {},
   "source": [
    "## 6 训练模型"
   ]
  },
  {
   "cell_type": "code",
   "execution_count": 14,
   "metadata": {
    "ExecuteTime": {
     "end_time": "2020-07-02T05:17:48.652396Z",
     "start_time": "2020-07-02T05:17:47.985886Z"
    },
    "scrolled": true
   },
   "outputs": [
    {
     "name": "stdout",
     "output_type": "stream",
     "text": [
      "epoch 1, loss 0.156386, acc 0.966667\n",
      "epoch 2, loss 0.104569, acc 1.000000\n",
      "epoch 3, loss 0.079365, acc 1.000000\n",
      "epoch 4, loss 0.064651, acc 1.000000\n",
      "epoch 5, loss 0.054964, acc 1.000000\n",
      "epoch 6, loss 0.048096, acc 1.000000\n",
      "epoch 7, loss 0.042951, acc 1.000000\n",
      "epoch 8, loss 0.038953, acc 1.000000\n",
      "epoch 9, loss 0.035747, acc 1.000000\n",
      "epoch 10, loss 0.033112, acc 1.000000\n",
      "epoch 11, loss 0.030911, acc 1.000000\n",
      "epoch 12, loss 0.029036, acc 1.000000\n",
      "epoch 13, loss 0.027423, acc 1.000000\n",
      "epoch 14, loss 0.026015, acc 1.000000\n",
      "epoch 15, loss 0.024776, acc 1.000000\n"
     ]
    }
   ],
   "source": [
    "lr = 0.03\n",
    "num_epochs = 15\n",
    "batch_size = 10\n",
    "net = logistic_regression\n",
    "loss = bce_loss\n",
    "for epoch in range(num_epochs): # 训练模型一共需要num_epochs个迭代周期\n",
    "# 在每一个迭代周期中，会使用训练数据集中所有样本一次\n",
    "    acc = 0.0\n",
    "    for X , Y in data_iter(batch_size, X_train, y_train): # x和y分别是小批量样本的特征和标签\n",
    "        y_pred = net(X, w, b) \n",
    "        l = loss(y_pred, Y).sum() # l是有关小批量x和y的损失 \n",
    "        l.backward() # 小批量的损失对模型参数求梯度\n",
    "        sgd([w,b], lr, batch_size) # 使用小批量随机梯度下降迭代模型参数 \n",
    "        w.grad.data.zero_() # 梯度清零\n",
    "        b.grad.data.zero_()\n",
    "        \n",
    "        mask = y_pred.ge(0.5).float()\n",
    "        correct = (mask == Y).sum()\n",
    "        acc += correct.data.item()\n",
    "    train_l = loss(net(x, w, b), y)\n",
    "    \n",
    "    \n",
    "    print('epoch %d, loss %f, acc %f' % (epoch + 1, train_l.mean().item(),acc/len(y_train)))\n"
   ]
  },
  {
   "cell_type": "markdown",
   "metadata": {},
   "source": [
    "## 7 结果可视化"
   ]
  },
  {
   "cell_type": "code",
   "execution_count": 15,
   "metadata": {
    "ExecuteTime": {
     "end_time": "2020-07-02T05:17:56.589841Z",
     "start_time": "2020-07-02T05:17:56.385952Z"
    }
   },
   "outputs": [
    {
     "name": "stdout",
     "output_type": "stream",
     "text": [
      "tensor([[-0.8572],\n",
      "        [-0.8274]], requires_grad=True)\n",
      "tensor([0.0522], requires_grad=True)\n"
     ]
    }
   ],
   "source": [
    "print(w)\n",
    "print(b)"
   ]
  },
  {
   "cell_type": "code",
   "execution_count": 16,
   "metadata": {},
   "outputs": [
    {
     "data": {
      "image/png": "[encoded data removed]",
      "text/plain": [
       "<Figure size 432x288 with 1 Axes>"
      ]
     },
     "metadata": {
      "needs_background": "light"
     },
     "output_type": "display_data"
    }
   ],
   "source": [
    "xa = list(range(-4, 5))\n",
    "xb = []\n",
    "for item in xa:\n",
    "    xb.append(-(b.data + item*w[0])/w[1])\n",
    "fig, ax = plt.subplots()\n",
    "labels = ['class 0','class 1']\n",
    "ax.scatter(x.numpy()[0:len(x1),0], x.numpy()[0:len(x1),1], label=labels[0])\n",
    "ax.scatter(x.numpy()[len(x1):len(x),0], x.numpy()[len(x1):len(x),1], label=labels[1])\n",
    "ax.legend()\n",
    "plt.plot(xa, xb)\n",
    "plt.show()"
   ]
  },
  {
   "cell_type": "code",
   "execution_count": 17,
   "metadata": {},
   "outputs": [],
   "source": [
    "def accuracy(y, y_pred):\n",
    "    return y == y_pred"
   ]
  },
  {
   "cell_type": "code",
   "execution_count": 18,
   "metadata": {},
   "outputs": [
    {
     "name": "stdout",
     "output_type": "stream",
     "text": [
      "Test Acc:  1.0\n"
     ]
    }
   ],
   "source": [
    "acc_sum = 0.0\n",
    "for X , Y in data_iter(1, X_test, y_test): # x和y分别是小批量样本的特征和标签\n",
    "    y_pred=net(X, w, b)\n",
    "    acc_sum+=accuracy(np.round(y_pred.detach().numpy()),Y.detach().numpy())\n",
    "print(\"Test Acc: \",(acc_sum/len(y_test))[0][0])"
   ]
  },
  {
   "cell_type": "code",
   "execution_count": 19,
   "metadata": {},
   "outputs": [
    {
     "data": {
      "text/html": [
       "<div>\n",
       "<style scoped>\n",
       "    .dataframe tbody tr th:only-of-type {\n",
       "        vertical-align: middle;\n",
       "    }\n",
       "\n",
       "    .dataframe tbody tr th {\n",
       "        vertical-align: top;\n",
       "    }\n",
       "\n",
       "    .dataframe thead th {\n",
       "        text-align: right;\n",
       "    }\n",
       "</style>\n",
       "<table border=\"1\" class=\"dataframe\">\n",
       "  <thead>\n",
       "    <tr style=\"text-align: right;\">\n",
       "      <th></th>\n",
       "      <th>Predicted Label</th>\n",
       "      <th>True Label</th>\n",
       "    </tr>\n",
       "  </thead>\n",
       "  <tbody>\n",
       "    <tr>\n",
       "      <th>0</th>\n",
       "      <td>1.0</td>\n",
       "      <td>1.0</td>\n",
       "    </tr>\n",
       "    <tr>\n",
       "      <th>1</th>\n",
       "      <td>0.0</td>\n",
       "      <td>0.0</td>\n",
       "    </tr>\n",
       "    <tr>\n",
       "      <th>2</th>\n",
       "      <td>1.0</td>\n",
       "      <td>1.0</td>\n",
       "    </tr>\n",
       "    <tr>\n",
       "      <th>3</th>\n",
       "      <td>0.0</td>\n",
       "      <td>0.0</td>\n",
       "    </tr>\n",
       "    <tr>\n",
       "      <th>4</th>\n",
       "      <td>0.0</td>\n",
       "      <td>0.0</td>\n",
       "    </tr>\n",
       "    <tr>\n",
       "      <th>...</th>\n",
       "      <td>...</td>\n",
       "      <td>...</td>\n",
       "    </tr>\n",
       "    <tr>\n",
       "      <th>85</th>\n",
       "      <td>1.0</td>\n",
       "      <td>1.0</td>\n",
       "    </tr>\n",
       "    <tr>\n",
       "      <th>86</th>\n",
       "      <td>1.0</td>\n",
       "      <td>1.0</td>\n",
       "    </tr>\n",
       "    <tr>\n",
       "      <th>87</th>\n",
       "      <td>0.0</td>\n",
       "      <td>0.0</td>\n",
       "    </tr>\n",
       "    <tr>\n",
       "      <th>88</th>\n",
       "      <td>1.0</td>\n",
       "      <td>1.0</td>\n",
       "    </tr>\n",
       "    <tr>\n",
       "      <th>89</th>\n",
       "      <td>0.0</td>\n",
       "      <td>0.0</td>\n",
       "    </tr>\n",
       "  </tbody>\n",
       "</table>\n",
       "<p>90 rows × 2 columns</p>\n",
       "</div>"
      ],
      "text/plain": [
       "    Predicted Label  True Label\n",
       "0               1.0         1.0\n",
       "1               0.0         0.0\n",
       "2               1.0         1.0\n",
       "3               0.0         0.0\n",
       "4               0.0         0.0\n",
       "..              ...         ...\n",
       "85              1.0         1.0\n",
       "86              1.0         1.0\n",
       "87              0.0         0.0\n",
       "88              1.0         1.0\n",
       "89              0.0         0.0\n",
       "\n",
       "[90 rows x 2 columns]"
      ]
     },
     "execution_count": 19,
     "metadata": {},
     "output_type": "execute_result"
    }
   ],
   "source": [
    "import pandas as pd\n",
    "pre_label = torch.round(net(X_test, w, b)).detach().numpy()\n",
    "true_label = y_test.detach().numpy()\n",
    "label = np.hstack([pre_label,true_label])\n",
    "df = pd.DataFrame(label,columns=[\"Predicted Label\",\"True Label\"])\n",
    "df"
   ]
  },
  {
   "cell_type": "code",
   "execution_count": null,
   "metadata": {},
   "outputs": [],
   "source": []
  }
 ],
 "metadata": {
  "kernelspec": {
   "display_name": "Python 3 (ipykernel)",
   "language": "python",
   "name": "python3"
  },
  "language_info": {
   "codemirror_mode": {
    "name": "ipython",
    "version": 3
   },
   "file_extension": ".py",
   "mimetype": "text/x-python",
   "name": "python",
   "nbconvert_exporter": "python",
   "pygments_lexer": "ipython3",
   "version": "3.9.6"
  },
  "toc": {
   "base_numbering": 1,
   "nav_menu": {},
   "number_sections": false,
   "sideBar": true,
   "skip_h1_title": true,
   "title_cell": "Table of Contents",
   "title_sidebar": "Contents",
   "toc_cell": false,
   "toc_position": {},
   "toc_section_display": true,
   "toc_window_display": false
  },
  "varInspector": {
   "cols": {
    "lenName": 16,
    "lenType": 16,
    "lenVar": 40
   },
   "kernels_config": {
    "python": {
     "delete_cmd_postfix": "",
     "delete_cmd_prefix": "del ",
     "library": "var_list.py",
     "varRefreshCmd": "print(var_dic_list())"
    },
    "r": {
     "delete_cmd_postfix": ") ",
     "delete_cmd_prefix": "rm(",
     "library": "var_list.r",
     "varRefreshCmd": "cat(var_dic_list()) "
    }
   },
   "types_to_exclude": [
    "module",
    "function",
    "builtin_function_or_method",
    "instance",
    "_Feature"
   ],
   "window_display": false
  }
 },
 "nbformat": 4,
 "nbformat_minor": 2
}
