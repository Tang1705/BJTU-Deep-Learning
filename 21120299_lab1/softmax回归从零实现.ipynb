{
 "cells": [
  {
   "cell_type": "markdown",
   "metadata": {},
   "source": [
    "# softmax回归从零开始实现"
   ]
  },
  {
   "cell_type": "code",
   "execution_count": 2,
   "metadata": {
    "ExecuteTime": {
     "end_time": "2020-07-02T04:48:49.484212Z",
     "start_time": "2020-07-02T04:48:49.475421Z"
    }
   },
   "outputs": [],
   "source": [
    "import torch\n",
    "import torchvision\n",
    "import torchvision.transforms as transforms\n",
    "import platform\n",
    "import matplotlib.pyplot as plt"
   ]
  },
  {
   "cell_type": "markdown",
   "metadata": {},
   "source": [
    "## 1 获取和读取数据"
   ]
  },
  {
   "cell_type": "code",
   "execution_count": 3,
   "metadata": {
    "ExecuteTime": {
     "end_time": "2020-07-02T04:48:52.048474Z",
     "start_time": "2020-07-02T04:48:52.034766Z"
    }
   },
   "outputs": [],
   "source": [
    "mnist_train = torchvision.datasets.FashionMNIST(root='~/Datasets/FashionMNIST', train=True, download=True, transform=transforms.ToTensor())\n",
    "mnist_test = torchvision.datasets.FashionMNIST(root='~/Datasets/FashionMNIST', train=False, download=True, transform=transforms.ToTensor())"
   ]
  },
  {
   "cell_type": "code",
   "execution_count": 4,
   "metadata": {
    "ExecuteTime": {
     "end_time": "2020-07-02T03:42:31.312402Z",
     "start_time": "2020-07-02T03:42:30.667083Z"
    }
   },
   "outputs": [
    {
     "name": "stdout",
     "output_type": "stream",
     "text": [
      "<class 'torchvision.datasets.mnist.FashionMNIST'>\n",
      "60000 10000\n",
      "torch.Size([1, 28, 28]) 9\n"
     ]
    }
   ],
   "source": [
    "print(type(mnist_train))\n",
    "print(len(mnist_train),len(mnist_test))\n",
    "feature, label = mnist_train[0]\n",
    "print(feature.shape, label)"
   ]
  },
  {
   "cell_type": "code",
   "execution_count": 5,
   "metadata": {
    "ExecuteTime": {
     "end_time": "2020-07-02T03:36:10.427627Z",
     "start_time": "2020-07-02T03:36:10.422244Z"
    }
   },
   "outputs": [],
   "source": [
    "batch_size = 256\n",
    "system = platform.system()\n",
    "num_workers = 4 if system == 'Linux' else 0\n",
    "train_iter = torch.utils.data.DataLoader(mnist_train, batch_size=batch_size, shuffle=True, num_workers=num_workers)\n",
    "test_iter = torch.utils.data.DataLoader(mnist_test, batch_size=batch_size, shuffle=False, num_workers=num_workers)"
   ]
  },
  {
   "cell_type": "markdown",
   "metadata": {},
   "source": [
    "## 2 初始化模型参数"
   ]
  },
  {
   "cell_type": "code",
   "execution_count": 6,
   "metadata": {
    "ExecuteTime": {
     "end_time": "2020-07-02T04:48:57.298725Z",
     "start_time": "2020-07-02T04:48:57.290435Z"
    }
   },
   "outputs": [],
   "source": [
    "num_inputs = 784\n",
    "num_outputs = 10\n",
    "W = torch.normal(0, 0.1, (num_inputs, num_outputs), dtype=torch.float32)  # 784*10\n",
    "b = torch.normal(0, 0.01, (1, num_outputs), dtype=torch.float32)  # 偏差参数1*10"
   ]
  },
  {
   "cell_type": "code",
   "execution_count": 7,
   "metadata": {
    "ExecuteTime": {
     "end_time": "2020-07-02T04:48:57.965306Z",
     "start_time": "2020-07-02T04:48:57.955626Z"
    }
   },
   "outputs": [
    {
     "data": {
      "text/plain": [
       "tensor([[ 0.0160, -0.0011,  0.0042, -0.0075, -0.0144,  0.0024,  0.0019, -0.0046,\n",
       "          0.0062, -0.0054]], requires_grad=True)"
      ]
     },
     "execution_count": 7,
     "metadata": {},
     "output_type": "execute_result"
    }
   ],
   "source": [
    "W.requires_grad_(requires_grad=True)\n",
    "b.requires_grad_(requires_grad=True)"
   ]
  },
  {
   "cell_type": "markdown",
   "metadata": {},
   "source": [
    "## 3 实现softmax运算"
   ]
  },
  {
   "cell_type": "code",
   "execution_count": 8,
   "metadata": {
    "ExecuteTime": {
     "end_time": "2020-07-02T04:49:14.106915Z",
     "start_time": "2020-07-02T04:49:14.101609Z"
    }
   },
   "outputs": [],
   "source": [
    "def softmax(X):\n",
    "    X_exp = X.exp()\n",
    "    partition = X_exp.sum(dim = 1,keepdim = True)\n",
    "    return X_exp / partition"
   ]
  },
  {
   "cell_type": "code",
   "execution_count": null,
   "metadata": {
    "ExecuteTime": {
     "end_time": "2020-07-02T04:49:14.635371Z",
     "start_time": "2020-07-02T04:49:14.627793Z"
    }
   },
   "outputs": [],
   "source": []
  },
  {
   "cell_type": "markdown",
   "metadata": {},
   "source": [
    "## 4 定义模型"
   ]
  },
  {
   "cell_type": "code",
   "execution_count": 9,
   "metadata": {
    "ExecuteTime": {
     "end_time": "2020-07-02T04:49:19.831978Z",
     "start_time": "2020-07-02T04:49:19.825974Z"
    }
   },
   "outputs": [],
   "source": [
    "def softmax_net(X):\n",
    "    return softmax(torch.mm(X.view((-1,num_inputs)),W) + b)"
   ]
  },
  {
   "cell_type": "markdown",
   "metadata": {},
   "source": [
    "## 5 定义损失函数"
   ]
  },
  {
   "cell_type": "markdown",
   "metadata": {},
   "source": [
    "$$\\ell(\\theta)=\\frac{1}{n} \\sum_{i=1}^{n} H\\left(\\hat{y}^{(i)}, y^{(i)}\\right)=-\\frac{1}{n} \\sum_{i=1}^{n} \\log \\hat{y}_{y^{(i)}}^{(i)}$$"
   ]
  },
  {
   "cell_type": "code",
   "execution_count": 10,
   "metadata": {
    "ExecuteTime": {
     "end_time": "2020-07-02T04:49:22.499971Z",
     "start_time": "2020-07-02T04:49:22.460561Z"
    }
   },
   "outputs": [],
   "source": [
    "def cross_entropy(y_hat, y):\n",
    "    return - torch.log(y_hat.gather(1,y.view(-1,1)))"
   ]
  },
  {
   "cell_type": "code",
   "execution_count": null,
   "metadata": {
    "ExecuteTime": {
     "end_time": "2020-07-02T04:49:22.548504Z",
     "start_time": "2020-07-02T04:49:22.544796Z"
    }
   },
   "outputs": [],
   "source": []
  },
  {
   "cell_type": "markdown",
   "metadata": {},
   "source": [
    "## 6 定义优化算法"
   ]
  },
  {
   "cell_type": "code",
   "execution_count": 11,
   "metadata": {
    "ExecuteTime": {
     "end_time": "2020-07-02T04:49:22.972437Z",
     "start_time": "2020-07-02T04:49:22.967911Z"
    }
   },
   "outputs": [],
   "source": [
    "def sgd(params, lr, batch_size):\n",
    "    for param in params:\n",
    "        param.data -= lr * param.grad / batch_size"
   ]
  },
  {
   "cell_type": "markdown",
   "metadata": {},
   "source": [
    "## 7 计算分类准确率"
   ]
  },
  {
   "cell_type": "code",
   "execution_count": 12,
   "metadata": {
    "ExecuteTime": {
     "end_time": "2020-07-02T04:49:25.077303Z",
     "start_time": "2020-07-02T04:49:25.071548Z"
    }
   },
   "outputs": [],
   "source": [
    "def accuracy(y_hat,y):\n",
    "    return (y_hat.argmax(dim=1)==y).sum().item()"
   ]
  },
  {
   "cell_type": "code",
   "execution_count": 13,
   "metadata": {
    "ExecuteTime": {
     "end_time": "2020-07-02T04:49:25.724639Z",
     "start_time": "2020-07-02T04:49:25.718931Z"
    }
   },
   "outputs": [],
   "source": [
    "def evaluate_accuracy(data_iter,net):\n",
    "    acc_sum,n = 0.0,0\n",
    "    for x,y in data_iter:\n",
    "        acc_sum += (net(x).argmax(dim=1)==y).float().sum().item()\n",
    "        n += y.shape[0]\n",
    "    return acc_sum / n"
   ]
  },
  {
   "cell_type": "code",
   "execution_count": null,
   "metadata": {
    "ExecuteTime": {
     "end_time": "2020-07-02T04:49:26.125928Z",
     "start_time": "2020-07-02T04:49:26.119115Z"
    }
   },
   "outputs": [],
   "source": []
  },
  {
   "cell_type": "code",
   "execution_count": null,
   "metadata": {
    "ExecuteTime": {
     "end_time": "2020-07-02T04:49:27.377909Z",
     "start_time": "2020-07-02T04:49:26.637661Z"
    }
   },
   "outputs": [],
   "source": []
  },
  {
   "cell_type": "markdown",
   "metadata": {},
   "source": [
    "## 8 训练模型"
   ]
  },
  {
   "cell_type": "code",
   "execution_count": 14,
   "metadata": {
    "ExecuteTime": {
     "end_time": "2020-07-02T04:50:32.003132Z",
     "start_time": "2020-07-02T04:50:02.011402Z"
    }
   },
   "outputs": [
    {
     "name": "stdout",
     "output_type": "stream",
     "text": [
      "epoch 1, loss 0.8205, train acc 0.722, test acc 0.781\n",
      "epoch 2, loss 0.5813, train acc 0.805, test acc 0.798\n",
      "epoch 3, loss 0.5351, train acc 0.820, test acc 0.814\n",
      "epoch 4, loss 0.5097, train acc 0.828, test acc 0.818\n",
      "epoch 5, loss 0.4927, train acc 0.834, test acc 0.824\n",
      "epoch 6, loss 0.4793, train acc 0.838, test acc 0.824\n",
      "epoch 7, loss 0.4703, train acc 0.841, test acc 0.826\n",
      "epoch 8, loss 0.4632, train acc 0.842, test acc 0.828\n",
      "epoch 9, loss 0.4571, train acc 0.844, test acc 0.830\n",
      "epoch 10, loss 0.4523, train acc 0.846, test acc 0.828\n",
      "epoch 11, loss 0.4473, train acc 0.848, test acc 0.831\n",
      "epoch 12, loss 0.4439, train acc 0.847, test acc 0.833\n",
      "epoch 13, loss 0.4399, train acc 0.849, test acc 0.834\n",
      "epoch 14, loss 0.4363, train acc 0.851, test acc 0.836\n",
      "epoch 15, loss 0.4355, train acc 0.851, test acc 0.836\n"
     ]
    }
   ],
   "source": [
    "num_epochs=15\n",
    "lr=0.1\n",
    "net=softmax_net\n",
    "loss=cross_entropy\n",
    "optimizer=sgd\n",
    "for epoch in range(num_epochs):\n",
    "    train_l_sum, train_acc_sum, test_acc, n = 0.0, 0.0, 0.0, 0\n",
    "    for x,y in train_iter:\n",
    "        y_hat=net(x)\n",
    "        l = loss(y_hat,y).sum()\n",
    "        \n",
    "        l.backward()  # 求梯度\n",
    "        sgd([W, b], lr, batch_size)  # 参数更新\n",
    "        W.grad.data.zero_()\n",
    "        b.grad.data.zero_()  # 梯度清零\n",
    "        \n",
    "        train_l_sum+=l.item()\n",
    "        train_acc_sum+=accuracy(y_hat,y)\n",
    "        n+=y.shape[0]\n",
    "    test_acc+=evaluate_accuracy(test_iter,net)\n",
    "    print('epoch %d, loss %.4f, train acc %.3f, test acc %.3f' % (epoch+1,train_l_sum/n,train_acc_sum/n,test_acc))"
   ]
  },
  {
   "cell_type": "markdown",
   "metadata": {},
   "source": [
    "## 9 预测"
   ]
  },
  {
   "cell_type": "code",
   "execution_count": 18,
   "metadata": {
    "ExecuteTime": {
     "end_time": "2020-07-02T03:48:16.209960Z",
     "start_time": "2020-07-02T03:48:16.198517Z"
    }
   },
   "outputs": [],
   "source": [
    "def get_fashion_mnist_labels(labels):\n",
    "    text_labels=['t-shirt','trouser','pullover','dress','coat','sandal','shirt','sneaker','bag','ankle boot']\n",
    "    return [text_labels[int(i)] for i in labels]"
   ]
  },
  {
   "cell_type": "code",
   "execution_count": 19,
   "metadata": {
    "ExecuteTime": {
     "end_time": "2020-07-02T03:48:39.145977Z",
     "start_time": "2020-07-02T03:48:37.545560Z"
    }
   },
   "outputs": [],
   "source": [
    "def show_fashion_mnist(images,labels):\n",
    "    _,figs = plt.subplots(1,len(images),figsize=(20,20))\n",
    "    for f,img,lbl in zip(figs,images,labels):\n",
    "        f.imshow(img.view((28,28)).numpy())\n",
    "        f.set_title(lbl)\n",
    "        f.axes.get_xaxis().set_visible(False)\n",
    "        f.axes.get_yaxis().set_visible(False)\n",
    "    plt.show()"
   ]
  },
  {
   "cell_type": "code",
   "execution_count": 20,
   "metadata": {},
   "outputs": [
    {
     "data": {
      "image/png": "[encoded data removed]",
      "text/plain": [
       "<Figure size 1440x1440 with 10 Axes>"
      ]
     },
     "metadata": {
      "needs_background": "light"
     },
     "output_type": "display_data"
    }
   ],
   "source": [
    "x,y = iter(test_iter).next()\n",
    "\n",
    "true_labels = get_fashion_mnist_labels(y.numpy())\n",
    "pred_labels = get_fashion_mnist_labels(net(x).argmax(dim=1).numpy())\n",
    "titles=[true+'\\n'+pred for true, pred in zip(true_labels,pred_labels)]\n",
    "show_fashion_mnist(x[0:10],titles[0:10])"
   ]
  },
  {
   "cell_type": "code",
   "execution_count": null,
   "metadata": {},
   "outputs": [],
   "source": []
  }
 ],
 "metadata": {
  "kernelspec": {
   "display_name": "Python 3 (ipykernel)",
   "language": "python",
   "name": "python3"
  },
  "language_info": {
   "codemirror_mode": {
    "name": "ipython",
    "version": 3
   },
   "file_extension": ".py",
   "mimetype": "text/x-python",
   "name": "python",
   "nbconvert_exporter": "python",
   "pygments_lexer": "ipython3",
   "version": "3.9.6"
  },
  "toc": {
   "base_numbering": 1,
   "nav_menu": {},
   "number_sections": false,
   "sideBar": true,
   "skip_h1_title": true,
   "title_cell": "Table of Contents",
   "title_sidebar": "Contents",
   "toc_cell": false,
   "toc_position": {},
   "toc_section_display": true,
   "toc_window_display": false
  },
  "varInspector": {
   "cols": {
    "lenName": 16,
    "lenType": 16,
    "lenVar": 40
   },
   "kernels_config": {
    "python": {
     "delete_cmd_postfix": "",
     "delete_cmd_prefix": "del ",
     "library": "var_list.py",
     "varRefreshCmd": "print(var_dic_list())"
    },
    "r": {
     "delete_cmd_postfix": ") ",
     "delete_cmd_prefix": "rm(",
     "library": "var_list.r",
     "varRefreshCmd": "cat(var_dic_list()) "
    }
   },
   "types_to_exclude": [
    "module",
    "function",
    "builtin_function_or_method",
    "instance",
    "_Feature"
   ],
   "window_display": false
  }
 },
 "nbformat": 4,
 "nbformat_minor": 2
}
