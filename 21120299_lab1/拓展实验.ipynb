{
 "cells": [
  {
   "cell_type": "code",
   "execution_count": 1,
   "id": "contrary-witch",
   "metadata": {},
   "outputs": [],
   "source": [
    "import torch"
   ]
  },
  {
   "cell_type": "code",
   "execution_count": 2,
   "id": "close-customer",
   "metadata": {},
   "outputs": [],
   "source": [
    "points = torch.rand(1000,1024)"
   ]
  },
  {
   "cell_type": "code",
   "execution_count": 3,
   "id": "acute-musician",
   "metadata": {},
   "outputs": [],
   "source": [
    "diffs = points.reshape(1000, 1, 1024) - points.reshape(1, 1000, 1024)"
   ]
  },
  {
   "cell_type": "code",
   "execution_count": 4,
   "id": "owned-calvin",
   "metadata": {},
   "outputs": [
    {
     "data": {
      "text/plain": [
       "torch.Size([1000, 1000, 1024])"
      ]
     },
     "execution_count": 4,
     "metadata": {},
     "output_type": "execute_result"
    }
   ],
   "source": [
    "diffs.shape"
   ]
  },
  {
   "cell_type": "code",
   "execution_count": 5,
   "id": "green-retreat",
   "metadata": {},
   "outputs": [],
   "source": [
    "dists = torch.sqrt(torch.sum(diffs**2, axis=2))"
   ]
  },
  {
   "cell_type": "code",
   "execution_count": 6,
   "id": "possible-construction",
   "metadata": {},
   "outputs": [
    {
     "data": {
      "text/plain": [
       "torch.Size([1000, 1000])"
      ]
     },
     "execution_count": 6,
     "metadata": {},
     "output_type": "execute_result"
    }
   ],
   "source": [
    "dists.shape"
   ]
  },
  {
   "cell_type": "code",
   "execution_count": 7,
   "id": "intended-patch",
   "metadata": {},
   "outputs": [],
   "source": [
    "def EuclideanDistance(a,b):\n",
    "    sq_a = a**2\n",
    "    sum_sq_a = torch.sum(sq_a,dim=1).unsqueeze(1)  # m->[m, 1]\n",
    "    sq_b = b**2\n",
    "    sum_sq_b = torch.sum(sq_b,dim=1).unsqueeze(0)  # n->[1, n]\n",
    "    bt = b.t()\n",
    "    return torch.sqrt(sum_sq_a+sum_sq_b-2*a.mm(bt))"
   ]
  },
  {
   "cell_type": "code",
   "execution_count": 8,
   "id": "retired-moses",
   "metadata": {},
   "outputs": [],
   "source": [
    "ed = EuclideanDistance(points,points)"
   ]
  },
  {
   "cell_type": "code",
   "execution_count": 9,
   "id": "hawaiian-flight",
   "metadata": {},
   "outputs": [
    {
     "data": {
      "text/plain": [
       "torch.Size([1000, 1000])"
      ]
     },
     "execution_count": 9,
     "metadata": {},
     "output_type": "execute_result"
    }
   ],
   "source": [
    "ed.shape"
   ]
  }
 ],
 "metadata": {
  "kernelspec": {
   "display_name": "Python 3",
   "language": "python",
   "name": "python3"
  },
  "language_info": {
   "codemirror_mode": {
    "name": "ipython",
    "version": 3
   },
   "file_extension": ".py",
   "mimetype": "text/x-python",
   "name": "python",
   "nbconvert_exporter": "python",
   "pygments_lexer": "ipython3",
   "version": "3.8.2"
  }
 },
 "nbformat": 4,
 "nbformat_minor": 5
}
