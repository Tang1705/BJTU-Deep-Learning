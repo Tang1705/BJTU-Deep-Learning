{
 "cells": [
  {
   "cell_type": "markdown",
   "id": "according-repair",
   "metadata": {},
   "source": [
    "# 手动实现前馈神经网络解决回归任务"
   ]
  },
  {
   "cell_type": "code",
   "execution_count": 1,
   "id": "swiss-while",
   "metadata": {},
   "outputs": [],
   "source": [
    "import torch\n",
    "import numpy as np\n",
    "import matplotlib.pyplot as plt"
   ]
  },
  {
   "cell_type": "markdown",
   "id": "adequate-store",
   "metadata": {},
   "source": [
    "## 1 手动生成回归任务的数据集"
   ]
  },
  {
   "cell_type": "markdown",
   "id": "responsible-exception",
   "metadata": {},
   "source": [
    "数据集的大小为10000且训练集大小为7000，测试集大小为3000，数据集的样本特征维度p为500，且服从如下的高维线性函数:$y = 0.028 + \\sum_{i=1}^p0.0056x_i +$，设置噪声项服从均值为0、标准差为0.001的正态分布"
   ]
  },
  {
   "cell_type": "code",
   "execution_count": 2,
   "id": "comparable-distance",
   "metadata": {},
   "outputs": [],
   "source": [
    "num_train, num_test, num_inputs,num_hiddens, num_outputs= 7000, 3000, 500, 256, 1\n",
    "true_w, true_b = torch.ones(num_inputs, 1) * 0.0056, 0.028\n",
    "features = torch.randn((num_train + num_test, num_inputs))\n",
    "labels = torch.matmul(features, true_w)+true_b\n",
    "labels += torch.tensor(np.random.normal(0, 0.001, size=labels.size()), dtype=torch.float)\n",
    "train_features, test_features = features[:num_train, :], features[num_train:, :]\n",
    "train_labels, test_labels = labels[:num_train], labels[num_train:]"
   ]
  },
  {
   "cell_type": "markdown",
   "id": "organic-weight",
   "metadata": {},
   "source": [
    "## 2 采用 torch.utils.data.DataLoader 读取小批量数据"
   ]
  },
  {
   "cell_type": "code",
   "execution_count": 3,
   "id": "copyrighted-republican",
   "metadata": {},
   "outputs": [],
   "source": [
    "batch_size = 50\n",
    "num_epochs = 100\n",
    "lr = 0.0001"
   ]
  },
  {
   "cell_type": "code",
   "execution_count": 4,
   "id": "vulnerable-approach",
   "metadata": {},
   "outputs": [],
   "source": [
    "dataset = torch.utils.data.TensorDataset(train_features,train_labels)\n",
    "train_iter = torch.utils.data.DataLoader(dataset,batch_size,shuffle=True)\n",
    "dataset1 = torch.utils.data.TensorDataset(test_features,test_labels)\n",
    "test_iter = torch.utils.data.DataLoader(dataset1,batch_size,shuffle=True)"
   ]
  },
  {
   "cell_type": "markdown",
   "id": "metropolitan-temperature",
   "metadata": {},
   "source": [
    "## 3 模型参数定义及初始化"
   ]
  },
  {
   "cell_type": "code",
   "execution_count": 5,
   "id": "controlling-vegetation",
   "metadata": {},
   "outputs": [],
   "source": [
    "W1 = torch.tensor(np.random.normal(0,0.01,(num_hiddens,num_inputs)),dtype=torch.float,requires_grad=True)\n",
    "b1 = torch.zeros(num_hiddens,dtype = torch.float,requires_grad=True)\n",
    "W2 = torch.tensor(np.random.normal(0,0.01,(num_outputs,num_hiddens)),dtype=torch.float,requires_grad=True)\n",
    "b2 = torch.zeros(num_outputs,dtype = torch.float,requires_grad=True)\n",
    "params=[W1,b1,W2,b2]"
   ]
  },
  {
   "cell_type": "markdown",
   "id": "intensive-beauty",
   "metadata": {},
   "source": [
    "## 4 定义激活函数"
   ]
  },
  {
   "cell_type": "markdown",
   "id": "skilled-shield",
   "metadata": {},
   "source": [
    "选用ReLU作为激活函数"
   ]
  },
  {
   "cell_type": "code",
   "execution_count": 6,
   "id": "returning-johns",
   "metadata": {},
   "outputs": [],
   "source": [
    "def relu(x):\n",
    "    x[x <= 0] = 0\n",
    "    x[x > 0] = 1\n",
    "    return x\n",
    "\n",
    "# def relu(x):\n",
    "#     return torch.max(input=x,other=torch.tensor(0.0))"
   ]
  },
  {
   "cell_type": "markdown",
   "id": "moved-arbor",
   "metadata": {},
   "source": [
    "## 5 定义均方损失函数"
   ]
  },
  {
   "cell_type": "code",
   "execution_count": 7,
   "id": "immune-biology",
   "metadata": {},
   "outputs": [],
   "source": [
    "def squared_loss(y_hat, y):\n",
    "    return (y_hat - y.view(y_hat.size())) ** 2 / 2"
   ]
  },
  {
   "cell_type": "markdown",
   "id": "abstract-pursuit",
   "metadata": {},
   "source": [
    "## 6 定义随机梯度下降函数"
   ]
  },
  {
   "cell_type": "code",
   "execution_count": 8,
   "id": "empty-chamber",
   "metadata": {},
   "outputs": [],
   "source": [
    "def sgd(params, lr):\n",
    "    for param in params:\n",
    "        param.data -= lr * param.grad / batch_size"
   ]
  },
  {
   "cell_type": "markdown",
   "id": "optional-fashion",
   "metadata": {},
   "source": [
    "## 7 定义模型"
   ]
  },
  {
   "cell_type": "code",
   "execution_count": 9,
   "id": "backed-injection",
   "metadata": {},
   "outputs": [],
   "source": [
    "def net(X):\n",
    "    X=X.view((-1,num_inputs))\n",
    "    H = relu(torch.matmul(X, W1.t()) + b1)\n",
    "    return torch.matmul(H,W2.t())+b2"
   ]
  },
  {
   "cell_type": "markdown",
   "id": "printable-appointment",
   "metadata": {},
   "source": [
    "## 8 模型训练，保存训练集和验证集的loss"
   ]
  },
  {
   "cell_type": "code",
   "execution_count": 10,
   "id": "straight-river",
   "metadata": {},
   "outputs": [],
   "source": [
    "x_l = []\n",
    "train_loss = []\n",
    "test_loss = []"
   ]
  },
  {
   "cell_type": "code",
   "execution_count": 11,
   "id": "thrown-duration",
   "metadata": {},
   "outputs": [
    {
     "name": "stdout",
     "output_type": "stream",
     "text": [
      "epoch: 1, train_loss: 0.0111, test_loss: 0.0114\n",
      "epoch: 11, train_loss: 0.0107, test_loss: 0.0109\n",
      "epoch: 21, train_loss: 0.0102, test_loss: 0.0105\n",
      "epoch: 31, train_loss: 0.0099, test_loss: 0.0102\n",
      "epoch: 41, train_loss: 0.0095, test_loss: 0.0098\n",
      "epoch: 51, train_loss: 0.0092, test_loss: 0.0095\n",
      "epoch: 61, train_loss: 0.0089, test_loss: 0.0093\n",
      "epoch: 71, train_loss: 0.0087, test_loss: 0.0090\n",
      "epoch: 81, train_loss: 0.0084, test_loss: 0.0088\n",
      "epoch: 91, train_loss: 0.0082, test_loss: 0.0086\n"
     ]
    }
   ],
   "source": [
    "net = net\n",
    "loss = squared_loss\n",
    "for epoch in range(num_epochs):\n",
    "    for x, y in train_iter:\n",
    "        l = loss(net(x), y).sum()\n",
    "        l.backward()\n",
    "        sgd(params, lr)\n",
    "        W1.grad.data.zero_()\n",
    "        W2.grad.data.zero_()\n",
    "        b1.grad.data.zero_()\n",
    "        b2.grad.data.zero_()\n",
    "    train_l = loss(net(train_features), train_labels)\n",
    "    test_l = loss(net(test_features), test_labels)\n",
    "    x_l.append(epoch + 1)\n",
    "    train_loss.append(train_l.mean().item())\n",
    "    test_loss.append(test_l.mean().item())\n",
    "    if epoch%10 == 0:\n",
    "        print(\"epoch: {}, train_loss: {:.4f}, test_loss: {:.4f}\".format(epoch + 1, train_l.mean().item(), test_l.mean().item()))"
   ]
  },
  {
   "cell_type": "markdown",
   "id": "decent-globe",
   "metadata": {},
   "source": [
    "## 9 绘制loss曲线"
   ]
  },
  {
   "cell_type": "code",
   "execution_count": 12,
   "id": "saved-louis",
   "metadata": {},
   "outputs": [],
   "source": [
    "def Draw_Loss_Curve():\n",
    "    plt.figure(figsize=(15, 9))\n",
    "    plt.xlabel(\"epoch\")\n",
    "    plt.ylabel(\"loss\")\n",
    "    plt.title(\"Loss Function\")\n",
    "    plt.plot(x_l, train_loss, label=u'Train Loss')\n",
    "    plt.legend()\n",
    "    p2 = plt.plot(x_l, test_loss, label=u'Test Loss')\n",
    "    plt.legend()\n",
    "    plt.show()"
   ]
  },
  {
   "cell_type": "code",
   "execution_count": 13,
   "id": "fresh-dietary",
   "metadata": {},
   "outputs": [
    {
     "data": {
      "image/png": "[encoded data removed]",
      "text/plain": [
       "<Figure size 1080x648 with 1 Axes>"
      ]
     },
     "metadata": {
      "needs_background": "light"
     },
     "output_type": "display_data"
    }
   ],
   "source": [
    "Draw_Loss_Curve()"
   ]
  },
  {
   "cell_type": "code",
   "execution_count": null,
   "id": "tribal-cycle",
   "metadata": {},
   "outputs": [],
   "source": []
  }
 ],
 "metadata": {
  "kernelspec": {
   "display_name": "Python 3",
   "language": "python",
   "name": "python3"
  },
  "language_info": {
   "codemirror_mode": {
    "name": "ipython",
    "version": 3
   },
   "file_extension": ".py",
   "mimetype": "text/x-python",
   "name": "python",
   "nbconvert_exporter": "python",
   "pygments_lexer": "ipython3",
   "version": "3.8.2"
  }
 },
 "nbformat": 4,
 "nbformat_minor": 5
}
