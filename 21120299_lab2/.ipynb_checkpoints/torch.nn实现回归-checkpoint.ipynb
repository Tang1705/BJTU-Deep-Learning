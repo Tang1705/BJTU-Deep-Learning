{
 "cells": [
  {
   "cell_type": "markdown",
   "id": "close-michigan",
   "metadata": {},
   "source": [
    "# 利用 torch.nn 实现前馈神经网络解决回归任务"
   ]
  },
  {
   "cell_type": "code",
   "execution_count": 1,
   "id": "aware-tonight",
   "metadata": {},
   "outputs": [],
   "source": [
    "import torch\n",
    "import numpy as np\n",
    "import torch.nn as nn\n",
    "from torch.nn import init\n",
    "import torch.optim as optim\n",
    "import matplotlib.pyplot as plt"
   ]
  },
  {
   "cell_type": "markdown",
   "id": "solar-telling",
   "metadata": {},
   "source": [
    "## 1 手动生成回归任务的数据集"
   ]
  },
  {
   "cell_type": "code",
   "execution_count": 2,
   "id": "utility-arthur",
   "metadata": {},
   "outputs": [],
   "source": [
    "num_train, num_test, num_inputs,num_hiddens, num_outputs= 7000, 3000, 500, 256, 1\n",
    "true_w, true_b = torch.ones(num_inputs, 1) * 0.0056, 0.028\n",
    "features = torch.randn((num_train + num_test, num_inputs))\n",
    "labels = torch.matmul(features, true_w)+true_b\n",
    "labels += torch.tensor(np.random.normal(0, 0.001, size=labels.size()), dtype=torch.float)\n",
    "train_features, test_features = features[:num_train, :], features[num_train:, :]\n",
    "train_labels, test_labels = labels[:num_train], labels[num_train:]"
   ]
  },
  {
   "cell_type": "markdown",
   "id": "appointed-crime",
   "metadata": {},
   "source": [
    "## 2 采用 torch.utils.data.DataLoader 读取小批量数据"
   ]
  },
  {
   "cell_type": "code",
   "execution_count": 3,
   "id": "obvious-grenada",
   "metadata": {},
   "outputs": [],
   "source": [
    "batch_size = 64\n",
    "num_epochs = 100\n",
    "lr = 0.01"
   ]
  },
  {
   "cell_type": "code",
   "execution_count": 4,
   "id": "economic-compound",
   "metadata": {},
   "outputs": [],
   "source": [
    "dataset = torch.utils.data.TensorDataset(train_features,train_labels)\n",
    "train_iter = torch.utils.data.DataLoader(dataset,batch_size,shuffle=True)\n",
    "dataset1 = torch.utils.data.TensorDataset(test_features,test_labels)\n",
    "test_iter = torch.utils.data.DataLoader(dataset1,batch_size,shuffle=True)"
   ]
  },
  {
   "cell_type": "markdown",
   "id": "supposed-beijing",
   "metadata": {},
   "source": [
    "## 3 模型定义及参数初始化"
   ]
  },
  {
   "cell_type": "code",
   "execution_count": 5,
   "id": "consecutive-evaluation",
   "metadata": {},
   "outputs": [],
   "source": [
    "class FlattenLayer(torch.nn.Module):\n",
    "    def __init__(self):\n",
    "        super(FlattenLayer, self).__init__()\n",
    "    def forward(self, x):\n",
    "        return x.view(x.shape[0], -1)"
   ]
  },
  {
   "cell_type": "code",
   "execution_count": 6,
   "id": "protective-pakistan",
   "metadata": {},
   "outputs": [],
   "source": [
    "net = nn.Sequential(\n",
    "    FlattenLayer(),\n",
    "    nn.Linear(500,256),\n",
    "    nn.ReLU(),\n",
    "    nn.Linear(256,1),\n",
    ")"
   ]
  },
  {
   "cell_type": "code",
   "execution_count": 7,
   "id": "noticed-memory",
   "metadata": {},
   "outputs": [],
   "source": [
    "for params in net.parameters():\n",
    "    init.normal_(params,mean=0,std=0.01)"
   ]
  },
  {
   "cell_type": "markdown",
   "id": "parallel-forestry",
   "metadata": {},
   "source": [
    "## 4 定义均方损失函数"
   ]
  },
  {
   "cell_type": "code",
   "execution_count": 8,
   "id": "moved-origin",
   "metadata": {},
   "outputs": [],
   "source": [
    "loss = nn.MSELoss()"
   ]
  },
  {
   "cell_type": "markdown",
   "id": "expired-punch",
   "metadata": {},
   "source": [
    "## 5 定义随机梯度下降函数"
   ]
  },
  {
   "cell_type": "code",
   "execution_count": 9,
   "id": "parliamentary-sculpture",
   "metadata": {},
   "outputs": [],
   "source": [
    "optimizer = optim.SGD(net.parameters(), lr=lr)"
   ]
  },
  {
   "cell_type": "markdown",
   "id": "orange-jacksonville",
   "metadata": {},
   "source": [
    "## 6 模型训练，保存训练集和验证集的loss"
   ]
  },
  {
   "cell_type": "code",
   "execution_count": 10,
   "id": "disturbed-tyler",
   "metadata": {},
   "outputs": [],
   "source": [
    "x_l = []\n",
    "train_loss = []\n",
    "test_loss = []"
   ]
  },
  {
   "cell_type": "code",
   "execution_count": 11,
   "id": "concrete-fields",
   "metadata": {},
   "outputs": [
    {
     "name": "stdout",
     "output_type": "stream",
     "text": [
      "epoch 20, loss 0.001115\n",
      "epoch 40, loss 0.000518\n",
      "epoch 60, loss 0.000363\n",
      "epoch 80, loss 0.000270\n",
      "epoch 100, loss 0.000208\n"
     ]
    }
   ],
   "source": [
    "for epoch in range(num_epochs):\n",
    "    for x, y in train_iter:\n",
    "        l = loss(net(x), y).sum()\n",
    "        if optimizer is not None:\n",
    "            optimizer.zero_grad()\n",
    "        elif params is not None and params[0].grad is not None:\n",
    "            for param in params:\n",
    "                param.grad.data.zero_()\n",
    "        l.backward() # 小批量的损失对模型参数求梯度\n",
    "        optimizer.step()\n",
    "    train_l = loss(net(train_features), train_labels)\n",
    "    test_l = loss(net(test_features), test_labels)\n",
    "    x_l.append(epoch + 1)\n",
    "    train_loss.append(train_l.mean().item())\n",
    "    test_loss.append(test_l.mean().item())\n",
    "    if (epoch+1)%20==0:\n",
    "        print('epoch %d, loss %f' % (epoch + 1, train_l.mean().item()))"
   ]
  },
  {
   "cell_type": "markdown",
   "id": "applied-amateur",
   "metadata": {},
   "source": [
    "## 7 绘制loss曲线"
   ]
  },
  {
   "cell_type": "code",
   "execution_count": 12,
   "id": "advisory-ability",
   "metadata": {},
   "outputs": [],
   "source": [
    "def Draw_Loss_Curve():\n",
    "    plt.figure(figsize=(15, 9))\n",
    "    plt.xlabel(\"epoch\")\n",
    "    plt.ylabel(\"loss\")\n",
    "    plt.title(\"Loss Function\")\n",
    "    plt.plot(x_l, train_loss, label=u'Train Loss')\n",
    "    plt.legend()\n",
    "    p2 = plt.plot(x_l, test_loss, label=u'Test Loss')\n",
    "    plt.legend()\n",
    "    plt.show()"
   ]
  },
  {
   "cell_type": "code",
   "execution_count": 13,
   "id": "interpreted-tulsa",
   "metadata": {},
   "outputs": [
    {
     "data": {
      "image/png": "[encoded data removed]",
      "text/plain": [
       "<Figure size 1080x648 with 1 Axes>"
      ]
     },
     "metadata": {
      "needs_background": "light"
     },
     "output_type": "display_data"
    }
   ],
   "source": [
    "Draw_Loss_Curve()"
   ]
  },
  {
   "cell_type": "code",
   "execution_count": null,
   "id": "collaborative-delta",
   "metadata": {},
   "outputs": [],
   "source": []
  }
 ],
 "metadata": {
  "kernelspec": {
   "display_name": "Python 3 (ipykernel)",
   "language": "python",
   "name": "python3"
  },
  "language_info": {
   "codemirror_mode": {
    "name": "ipython",
    "version": 3
   },
   "file_extension": ".py",
   "mimetype": "text/x-python",
   "name": "python",
   "nbconvert_exporter": "python",
   "pygments_lexer": "ipython3",
   "version": "3.9.6"
  }
 },
 "nbformat": 4,
 "nbformat_minor": 5
}
