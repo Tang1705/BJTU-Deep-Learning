{
 "cells": [
  {
   "cell_type": "code",
   "execution_count": 1,
   "id": "unknown-freeware",
   "metadata": {},
   "outputs": [],
   "source": [
    "import torch\n",
    "import random\n",
    "import torchvision\n",
    "import torchvision.transforms as transforms\n",
    "from torch.nn import init\n",
    "import torch.optim as optim\n",
    "from numpy import *\n",
    "import torch.nn as nn\n",
    "device = torch.device('cpu')"
   ]
  },
  {
   "cell_type": "code",
   "execution_count": 2,
   "id": "stainless-fraud",
   "metadata": {},
   "outputs": [],
   "source": [
    "mnist_train = torchvision.datasets.MNIST(root='./', train=True,\n",
    "download=True, transform=transforms.ToTensor())\n",
    "mnist_test = torchvision.datasets.MNIST(root='./', train=False,\n",
    "download=True, transform=transforms.ToTensor())"
   ]
  },
  {
   "cell_type": "code",
   "execution_count": 14,
   "id": "physical-updating",
   "metadata": {},
   "outputs": [],
   "source": [
    "loss=torch.nn.CrossEntropyLoss()"
   ]
  },
  {
   "cell_type": "code",
   "execution_count": 3,
   "id": "worst-rehabilitation",
   "metadata": {},
   "outputs": [],
   "source": [
    "num_inputs = 784\n",
    "num_outputs = 10\n",
    "num_hiddens = 512\n",
    "class FlattenLayer(torch.nn.Module):\n",
    "    def __init__(self):\n",
    "        super(FlattenLayer, self).__init__()\n",
    "    def forward(self, x):\n",
    "        return x.view(x.shape[0], -1)\n",
    "Net = nn.Sequential(\n",
    "    FlattenLayer(),\n",
    "    nn.Linear(num_inputs,num_hiddens),\n",
    "    nn.ReLU(),\n",
    "    nn.Linear(num_hiddens,num_outputs),\n",
    ")"
   ]
  },
  {
   "cell_type": "code",
   "execution_count": 4,
   "id": "structural-cleaning",
   "metadata": {},
   "outputs": [],
   "source": [
    "for params in Net.parameters():\n",
    "    init.normal_(params,mean=0,std=0.01)"
   ]
  },
  {
   "cell_type": "code",
   "execution_count": 7,
   "id": "assured-slovak",
   "metadata": {},
   "outputs": [],
   "source": [
    "lr = 0.0001\n",
    "wd = 0.05\n",
    "optimizer = optim.SGD(Net.parameters(), lr=lr, weight_decay=wd)"
   ]
  },
  {
   "cell_type": "code",
   "execution_count": 8,
   "id": "tropical-piece",
   "metadata": {},
   "outputs": [],
   "source": [
    "def evaluate(data_iter, net):\n",
    "    test_loss,acc_sum, n = 0.0, 0.0, 0\n",
    "    for x, y in data_iter:\n",
    "        x = x.unsqueeze(1).type(torch.FloatTensor)\n",
    "        y_hat = net(x)\n",
    "        acc_sum += (y_hat.argmax(dim=1) == y).float().sum().item()\n",
    "        l = loss(y_hat, y).sum()\n",
    "        test_loss += l.item()\n",
    "        n += y.shape[0]\n",
    "    return acc_sum / n, test_loss / n"
   ]
  },
  {
   "cell_type": "code",
   "execution_count": 9,
   "id": "hairy-rings",
   "metadata": {},
   "outputs": [],
   "source": [
    "def get_kfold_data(k, i, X, y):\n",
    "    fold_size = X.shape[0] // k\n",
    "    val_start = i * fold_size\n",
    "    if i != k - 1:\n",
    "        val_end = (i + 1) * fold_size\n",
    "        X_valid, y_valid = X[val_start:val_end], y[val_start:val_end]\n",
    "        X_train = torch.cat((X[0:val_start], X[val_end:]), dim = 0)\n",
    "        y_train = torch.cat((y[0:val_start], y[val_end:]), dim = 0)\n",
    "    else:\n",
    "        X_valid, y_valid = X[val_start:], y[val_start:]\n",
    "        X_train = X[0:val_start]\n",
    "        y_train = y[0:val_start]\n",
    "    return X_train, y_train, X_valid, y_valid"
   ]
  },
  {
   "cell_type": "code",
   "execution_count": 10,
   "id": "latin-prison",
   "metadata": {},
   "outputs": [],
   "source": [
    "def k_fold(k, X_train, y_train):\n",
    "    train_loss_sum, valid_loss_sum = 0, 0\n",
    "    train_acc_sum, valid_acc_sum = 0, 0\n",
    "    for i in range(k):\n",
    "        print('第', i + 1, '折验证结果')\n",
    "        data = get_kfold_data(k, i, X_train, y_train)\n",
    "        net = Net\n",
    "        for params in Net.parameters():\n",
    "            init.normal_(params, mean=0, std=0.01)\n",
    "        train_loss, val_loss, train_acc, val_acc = train(net,*data,loss,num_epochs,batch_size,params,lr,optimizer)\n",
    "        print('train loss:{:.4f}, train accuracy:{:.3f}'.format(train_loss, train_acc))\n",
    "        print('valid loss:{:.4f}, valid accuracy:{:.3f}'.format(val_loss, val_acc))\n",
    "        train_loss_sum += train_loss\n",
    "        valid_loss_sum += val_loss\n",
    "        train_acc_sum += train_acc\n",
    "        valid_acc_sum += val_acc\n",
    "    print('\\n', '最终10折交叉验证结果：')\n",
    "    print('ave_train_loss:{:.4f}, ave_train_acc:{:.3f}'.format(train_loss_sum/k, train_acc_sum/k))\n",
    "    print('ave_valid_loss:{:.4f}, ave_valid_acc:{:.3f}'.format(valid_loss_sum/k, valid_acc_sum/k))\n",
    "    return"
   ]
  },
  {
   "cell_type": "code",
   "execution_count": 11,
   "id": "lined-mistress",
   "metadata": {},
   "outputs": [],
   "source": [
    "def data_iter(batch_size, features, labels):\n",
    "    num_examples = len(features)\n",
    "    indices = list(range(num_examples))\n",
    "    random.shuffle(indices)\n",
    "    for i in range(0, num_examples, batch_size):\n",
    "        j = torch.LongTensor(indices[i: min(i + batch_size, num_examples)])\n",
    "        yield features.index_select(0, j), labels.index_select(0, j)"
   ]
  },
  {
   "cell_type": "code",
   "execution_count": 12,
   "id": "paperback-authorization",
   "metadata": {},
   "outputs": [],
   "source": [
    "num_epochs = 5\n",
    "batch_size = 256\n",
    "xzhou = []\n",
    "y_train_loss = []\n",
    "y_test_loss = []\n",
    "y_train_acc = []\n",
    "y_test_acc = []\n",
    "def train(net, train_features, train_labels, test_features, test_labels, loss, num_epochs, batch_size, params=None, lr=None, optimizer=None):\n",
    "    y_train_loss, y_test_loss, y_train_acc, y_test_acc = [], [], [], []\n",
    "    for epoch in range(num_epochs):\n",
    "        train_l_num, train_acc_num, n = 0.0, 0.0, 0\n",
    "        for x, y in data_iter(batch_size, train_features, train_labels):\n",
    "            x = x.unsqueeze(1).type(torch.FloatTensor)\n",
    "            y_hat = net(x)\n",
    "            l = loss(y_hat, y).sum()\n",
    "            if optimizer is not None:\n",
    "                optimizer.zero_grad()\n",
    "            elif params is not None and params[0].grad is not None:\n",
    "                for param in params:\n",
    "                    param.grad.data.zero_()\n",
    "            l.backward()\n",
    "            optimizer.step()\n",
    "            train_l_num += l.item()\n",
    "            train_acc_num += (y_hat.argmax(dim=1) == y).sum().item()\n",
    "            n += y.shape[0]\n",
    "        test_acc, test_loss = evaluate(data_iter(batch_size, test_features, test_labels), net)\n",
    "        y_train_loss.append(train_l_num / n)\n",
    "        y_test_loss.append(test_loss)\n",
    "        y_train_acc.append(train_acc_num / n)\n",
    "        y_test_acc.append(test_acc)\n",
    "    return y_train_loss[num_epochs-1], y_test_loss[num_epochs-1], y_train_acc[num_epochs-1], y_test_acc[num_epochs-1]"
   ]
  },
  {
   "cell_type": "code",
   "execution_count": 15,
   "id": "brutal-swaziland",
   "metadata": {},
   "outputs": [
    {
     "name": "stdout",
     "output_type": "stream",
     "text": [
      "第 1 折验证结果\n",
      "train loss:0.0011, train accuracy:0.917\n",
      "valid loss:0.0011, valid accuracy:0.924\n",
      "第 2 折验证结果\n",
      "train loss:0.0011, train accuracy:0.915\n",
      "valid loss:0.0012, valid accuracy:0.910\n",
      "第 3 折验证结果\n",
      "train loss:0.0011, train accuracy:0.918\n",
      "valid loss:0.0013, valid accuracy:0.903\n",
      "第 4 折验证结果\n",
      "train loss:0.0011, train accuracy:0.916\n",
      "valid loss:0.0011, valid accuracy:0.922\n",
      "第 5 折验证结果\n",
      "train loss:0.0011, train accuracy:0.917\n",
      "valid loss:0.0012, valid accuracy:0.914\n",
      "第 6 折验证结果\n",
      "train loss:0.0011, train accuracy:0.916\n",
      "valid loss:0.0012, valid accuracy:0.904\n",
      "第 7 折验证结果\n",
      "train loss:0.0011, train accuracy:0.916\n",
      "valid loss:0.0012, valid accuracy:0.911\n",
      "第 8 折验证结果\n",
      "train loss:0.0011, train accuracy:0.916\n",
      "valid loss:0.0013, valid accuracy:0.904\n",
      "第 9 折验证结果\n",
      "train loss:0.0011, train accuracy:0.917\n",
      "valid loss:0.0013, valid accuracy:0.907\n",
      "第 10 折验证结果\n",
      "train loss:0.0011, train accuracy:0.914\n",
      "valid loss:0.0009, valid accuracy:0.932\n",
      "\n",
      " 最终10折交叉验证结果：\n",
      "ave_train_loss:0.0011, ave_train_acc:0.916\n",
      "ave_valid_loss:0.0012, ave_valid_acc:0.913\n"
     ]
    }
   ],
   "source": [
    "X_train, Y_train = mnist_train.data, mnist_train.targets\n",
    "X_test, Y_test = mnist_test.data,mnist_test.targets\n",
    "k_fold(10, X_train, Y_train)"
   ]
  },
  {
   "cell_type": "code",
   "execution_count": null,
   "id": "capable-popularity",
   "metadata": {},
   "outputs": [],
   "source": []
  }
 ],
 "metadata": {
  "kernelspec": {
   "display_name": "Python 3 (ipykernel)",
   "language": "python",
   "name": "python3"
  },
  "language_info": {
   "codemirror_mode": {
    "name": "ipython",
    "version": 3
   },
   "file_extension": ".py",
   "mimetype": "text/x-python",
   "name": "python",
   "nbconvert_exporter": "python",
   "pygments_lexer": "ipython3",
   "version": "3.9.6"
  }
 },
 "nbformat": 4,
 "nbformat_minor": 5
}
