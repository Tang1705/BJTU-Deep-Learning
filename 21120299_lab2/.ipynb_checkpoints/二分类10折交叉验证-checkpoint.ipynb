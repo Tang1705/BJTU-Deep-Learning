{
 "cells": [
  {
   "cell_type": "code",
   "execution_count": 1,
   "id": "iraqi-compound",
   "metadata": {},
   "outputs": [],
   "source": [
    "import torch\n",
    "import random\n",
    "import torch.optim as optim\n",
    "import torch.nn as nn\n",
    "from torch.nn import init"
   ]
  },
  {
   "cell_type": "code",
   "execution_count": 2,
   "id": "geographic-boulder",
   "metadata": {},
   "outputs": [],
   "source": [
    "#训练集\n",
    "x0 = torch.normal(2*torch.ones(7000,200),1)\n",
    "y0 = torch.zeros(7000,1)\n",
    "x1 = torch.normal(-2*torch.ones(7000,200),1)\n",
    "y1 = torch.ones(7000,1)\n",
    "x_t = torch.cat((x0, x1), 0).type(torch.FloatTensor)\n",
    "y_t = torch.cat((y0, y1), 0).type(torch.FloatTensor)\n",
    "#测试集\n",
    "x0_test = torch.normal(1*torch.ones(3000,200),1)\n",
    "y0_test = torch.zeros(3000,1)\n",
    "x1_test = torch.normal(-1*torch.ones(3000,200),1)\n",
    "y1_test = torch.ones(3000,1)\n",
    "x_t_test = torch.cat((x0_test, x1_test), 0)\n",
    "y_t_test = torch.cat((y0_test, y1_test), 0)"
   ]
  },
  {
   "cell_type": "code",
   "execution_count": 3,
   "id": "crucial-laptop",
   "metadata": {},
   "outputs": [],
   "source": [
    "#读取数据\n",
    "def data_iter(batch_size, features, labels):\n",
    "    num_examples = len(features)\n",
    "    indices = list(range(num_examples))\n",
    "    random.shuffle(indices)\n",
    "    for i in range(0, num_examples, batch_size):\n",
    "        j = torch.LongTensor(indices[i: min(i + batch_size, num_examples)])\n",
    "        yield features.index_select(0, j), labels.index_select(0, j)"
   ]
  },
  {
   "cell_type": "code",
   "execution_count": 4,
   "id": "private-cutting",
   "metadata": {},
   "outputs": [],
   "source": [
    "#交叉熵损失\n",
    "loss = torch.nn.BCELoss()"
   ]
  },
  {
   "cell_type": "code",
   "execution_count": 5,
   "id": "medical-patient",
   "metadata": {},
   "outputs": [],
   "source": [
    "class FlattenLayer(torch.nn.Module):\n",
    "    def __init__(self):\n",
    "        super(FlattenLayer, self).__init__()\n",
    "    def forward(self, x):\n",
    "        return x.view(x.shape[0], -1)\n",
    "net = nn.Sequential(\n",
    "    FlattenLayer(),\n",
    "    nn.Linear(200,128),\n",
    "    nn.ReLU(),\n",
    "    nn.Linear(128,1),\n",
    ")"
   ]
  },
  {
   "cell_type": "code",
   "execution_count": 6,
   "id": "valid-trading",
   "metadata": {},
   "outputs": [],
   "source": [
    "for params in net.parameters():\n",
    "    init.normal_(params,mean=0,std=0.01)"
   ]
  },
  {
   "cell_type": "code",
   "execution_count": 7,
   "id": "higher-alpha",
   "metadata": {},
   "outputs": [],
   "source": [
    "#K折\n",
    "def get_kfold_data(k, i, X, y):\n",
    "    fold_size = X.shape[0] // k\n",
    "    val_start = i * fold_size\n",
    "    if i != k - 1:\n",
    "        val_end = (i + 1) * fold_size\n",
    "        X_valid, y_valid = X[val_start:val_end], y[val_start:val_end]\n",
    "        X_train = torch.cat((X[0:val_start], X[val_end:]), dim = 0)\n",
    "        y_train = torch.cat((y[0:val_start], y[val_end:]), dim = 0)\n",
    "    else:\n",
    "        X_valid, y_valid = X[val_start:], y[val_start:]\n",
    "        X_train = X[0:val_start]\n",
    "        y_train = y[0:val_start]\n",
    "    return X_train, y_train, X_valid, y_valid"
   ]
  },
  {
   "cell_type": "code",
   "execution_count": 8,
   "id": "hourly-acrylic",
   "metadata": {},
   "outputs": [],
   "source": [
    "def k_fold(k, X_train, y_train):\n",
    "    train_loss_sum, valid_loss_sum = 0, 0\n",
    "    train_acc_sum, valid_acc_sum = 0, 0\n",
    "    for i in range(k):\n",
    "        print('第', i + 1, '折验证结果')\n",
    "        data = get_kfold_data(k, i, X_train, y_train)\n",
    "        for params in net.parameters():\n",
    "            init.normal_(params, mean=0, std=0.01)\n",
    "        train_loss, val_loss, train_acc, val_acc = train(*data)\n",
    "        print('train loss:{:.4f}, train accuracy:{:.3f}'.format(train_loss, train_acc))\n",
    "        print('valid loss:{:.4f}, valid accuracy:{:.3f}'.format(val_loss, val_acc))\n",
    "        train_loss_sum += train_loss\n",
    "        valid_loss_sum += val_loss\n",
    "        train_acc_sum += train_acc\n",
    "        valid_acc_sum += val_acc\n",
    "    print('\\n', '最终10折交叉验证结果：')\n",
    "    print('ave_train_loss:{:.4f}, ave_train_acc:{:.3f}'.format(train_loss_sum / k, train_acc_sum / k))\n",
    "    print('ave_valid_loss:{:.4f}, ave_valid_acc:{:.3f}'.format(valid_loss_sum / k, valid_acc_sum / k))\n",
    "    return"
   ]
  },
  {
   "cell_type": "code",
   "execution_count": 9,
   "id": "selective-milwaukee",
   "metadata": {},
   "outputs": [],
   "source": [
    "#优化\n",
    "learn_rate = 0.001\n",
    "optimizer = optim.SGD(net.parameters(), lr=learn_rate)"
   ]
  },
  {
   "cell_type": "code",
   "execution_count": 10,
   "id": "selected-video",
   "metadata": {},
   "outputs": [],
   "source": [
    "def evaluate(x_test, y_test, num):\n",
    "    acc_sum = 0\n",
    "    for X, Y in data_iter(1, x_test, y_test):\n",
    "        if (net(X) >= 0.5 and Y == 1) or (net(X) < 0.5 and Y == 0):\n",
    "            acc_sum += 1\n",
    "    return acc_sum/num"
   ]
  },
  {
   "cell_type": "code",
   "execution_count": 11,
   "id": "outstanding-cooler",
   "metadata": {},
   "outputs": [],
   "source": [
    "#参数\n",
    "batch_size = 128\n",
    "num_epochs = 10\n",
    "xzhou = []\n",
    "y_train_loss = []\n",
    "y_train_acc = []\n",
    "y_test_loss = []\n",
    "y_test_acc = []\n",
    "#训练\n",
    "def train(x_t, y_t, x_t_test, y_t_test):\n",
    "    y_train_loss, y_test_loss, y_train_acc, y_test_acc = [], [], [], []\n",
    "    for epoch in range(num_epochs):\n",
    "        for X, Y in data_iter(batch_size, x_t, y_t):\n",
    "            l = loss(torch.sigmoid(net(X)), Y).sum()\n",
    "            if optimizer is not None:\n",
    "                optimizer.zero_grad()\n",
    "            elif params is not None and params[0].grad is not None:\n",
    "                for param in params:\n",
    "                    param.grad.data.zero_()\n",
    "            l.backward()\n",
    "            optimizer.step()\n",
    "        train_l = loss(torch.sigmoid(net(x_t)), y_t)\n",
    "        xzhou.append(epoch + 1)\n",
    "        y_train_loss.append(train_l.mean().item())\n",
    "        y_train_acc.append(evaluate(x_t, y_t, 12600))\n",
    "        train_l = loss(torch.sigmoid(net(x_t_test)), y_t_test)\n",
    "        y_test_loss.append(train_l.mean().item())\n",
    "        y_test_acc.append(evaluate(x_t_test, y_t_test, 1400))\n",
    "    return y_train_loss[num_epochs-1], y_test_loss[num_epochs-1], y_train_acc[num_epochs-1], y_test_acc[num_epochs-1]"
   ]
  },
  {
   "cell_type": "code",
   "execution_count": 12,
   "id": "digital-rendering",
   "metadata": {},
   "outputs": [
    {
     "name": "stdout",
     "output_type": "stream",
     "text": [
      "第 1 折验证结果\n",
      "train loss:0.0149, train accuracy:1.000\n",
      "valid loss:0.0178, valid accuracy:1.000\n",
      "第 2 折验证结果\n",
      "train loss:0.0151, train accuracy:1.000\n",
      "valid loss:0.0179, valid accuracy:1.000\n",
      "第 3 折验证结果\n",
      "train loss:0.0148, train accuracy:1.000\n",
      "valid loss:0.0174, valid accuracy:1.000\n",
      "第 4 折验证结果\n",
      "train loss:0.0155, train accuracy:1.000\n",
      "valid loss:0.0189, valid accuracy:1.000\n",
      "第 5 折验证结果\n",
      "train loss:0.0155, train accuracy:1.000\n",
      "valid loss:0.0194, valid accuracy:1.000\n",
      "第 6 折验证结果\n",
      "train loss:0.0148, train accuracy:1.000\n",
      "valid loss:0.0178, valid accuracy:1.000\n",
      "第 7 折验证结果\n",
      "train loss:0.0152, train accuracy:1.000\n",
      "valid loss:0.0189, valid accuracy:1.000\n",
      "第 8 折验证结果\n",
      "train loss:0.0150, train accuracy:1.000\n",
      "valid loss:0.0175, valid accuracy:1.000\n",
      "第 9 折验证结果\n",
      "train loss:0.0153, train accuracy:1.000\n",
      "valid loss:0.0194, valid accuracy:1.000\n",
      "第 10 折验证结果\n",
      "train loss:0.0151, train accuracy:1.000\n",
      "valid loss:0.0179, valid accuracy:1.000\n",
      "\n",
      " 最终10折交叉验证结果：\n",
      "ave_train_loss:0.0151, ave_train_acc:1.000\n",
      "ave_valid_loss:0.0183, ave_valid_acc:1.000\n"
     ]
    }
   ],
   "source": [
    "k_fold(10, x_t, y_t)"
   ]
  },
  {
   "cell_type": "code",
   "execution_count": null,
   "id": "bulgarian-sampling",
   "metadata": {},
   "outputs": [],
   "source": []
  }
 ],
 "metadata": {
  "kernelspec": {
   "display_name": "Python 3 (ipykernel)",
   "language": "python",
   "name": "python3"
  },
  "language_info": {
   "codemirror_mode": {
    "name": "ipython",
    "version": 3
   },
   "file_extension": ".py",
   "mimetype": "text/x-python",
   "name": "python",
   "nbconvert_exporter": "python",
   "pygments_lexer": "ipython3",
   "version": "3.9.6"
  }
 },
 "nbformat": 4,
 "nbformat_minor": 5
}
