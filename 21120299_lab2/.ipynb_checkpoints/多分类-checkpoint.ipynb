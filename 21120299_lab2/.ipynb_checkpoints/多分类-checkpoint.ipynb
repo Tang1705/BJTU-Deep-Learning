{
 "cells": [
  {
   "cell_type": "markdown",
   "id": "molecular-underwear",
   "metadata": {},
   "source": [
    "# 手动实现前馈神经网络解多分类任务"
   ]
  },
  {
   "cell_type": "code",
   "execution_count": 1,
   "id": "cardiac-cradle",
   "metadata": {},
   "outputs": [],
   "source": [
    "import torch\n",
    "import torchvision\n",
    "import torchvision.transforms as transforms\n",
    "import matplotlib.pyplot as plt\n",
    "from torch.utils import data\n",
    "import numpy as np"
   ]
  },
  {
   "cell_type": "markdown",
   "id": "soviet-attention",
   "metadata": {},
   "source": [
    "## 1 下载 MNIST 手写体数据集"
   ]
  },
  {
   "cell_type": "code",
   "execution_count": 2,
   "id": "statewide-cotton",
   "metadata": {},
   "outputs": [],
   "source": [
    "train_dataset = torchvision.datasets.MNIST(root=\"./\", train=True, transform= transforms.ToTensor(),download=True)\n",
    "test_dataset = torchvision.datasets.MNIST(root=\"./\", train=False, transform= transforms.ToTensor(),download=True)\n",
    "train_loader = torch.utils.data.DataLoader(train_dataset, batch_size=64, shuffle=True,num_workers=0)\n",
    "test_loader = torch.utils.data.DataLoader(test_dataset, batch_size=64, shuffle=False,num_workers=0)"
   ]
  },
  {
   "cell_type": "markdown",
   "id": "integrated-people",
   "metadata": {},
   "source": [
    "## 2 模型参数定义及初始化"
   ]
  },
  {
   "cell_type": "code",
   "execution_count": 3,
   "id": "hydraulic-meter",
   "metadata": {},
   "outputs": [],
   "source": [
    "batch_size=128\n",
    "num_inputs, num_outputs, num_hiddens = 784, 10, 256\n",
    "W1 = torch.tensor(np.random.normal(0,0.01,(num_inputs,num_hiddens)),dtype=torch.float)\n",
    "b1 = torch.zeros(num_hiddens,dtype=torch.float)\n",
    "W2 = torch.tensor(np.random.normal(0,0.01,(num_hiddens,num_outputs)),dtype=torch.float)\n",
    "b2 = torch.zeros(num_outputs,dtype=torch.float)"
   ]
  },
  {
   "cell_type": "code",
   "execution_count": 4,
   "id": "knowing-tutorial",
   "metadata": {},
   "outputs": [
    {
     "data": {
      "text/plain": [
       "tensor([0., 0., 0., 0., 0., 0., 0., 0., 0., 0.], requires_grad=True)"
      ]
     },
     "execution_count": 4,
     "metadata": {},
     "output_type": "execute_result"
    }
   ],
   "source": [
    "params = [W1, b1, W2, b2]\n",
    "W1.requires_grad_(requires_grad=True)\n",
    "b1.requires_grad_(requires_grad=True)\n",
    "W2.requires_grad_(requires_grad=True)\n",
    "b2.requires_grad_(requires_grad=True)"
   ]
  },
  {
   "cell_type": "markdown",
   "id": "expressed-advisory",
   "metadata": {},
   "source": [
    "## 3 定义激活函数"
   ]
  },
  {
   "cell_type": "code",
   "execution_count": 5,
   "id": "eligible-running",
   "metadata": {},
   "outputs": [],
   "source": [
    "def relu(x):\n",
    "    return torch.max(input=x,other=torch.tensor(0.0))"
   ]
  },
  {
   "cell_type": "markdown",
   "id": "minus-stomach",
   "metadata": {},
   "source": [
    "## 4 定义交叉熵损失函数"
   ]
  },
  {
   "cell_type": "code",
   "execution_count": 6,
   "id": "meaningful-reducing",
   "metadata": {},
   "outputs": [],
   "source": [
    "loss = torch.nn.CrossEntropyLoss()"
   ]
  },
  {
   "cell_type": "markdown",
   "id": "dental-palace",
   "metadata": {},
   "source": [
    "## 5 定义随机梯度下降函数"
   ]
  },
  {
   "cell_type": "code",
   "execution_count": 7,
   "id": "dietary-knitting",
   "metadata": {},
   "outputs": [],
   "source": [
    "def SGD(params,lr,batch_size):\n",
    "    for param in params:\n",
    "        param.data-=lr*param.grad/batch_size"
   ]
  },
  {
   "cell_type": "markdown",
   "id": "olympic-chester",
   "metadata": {},
   "source": [
    "## 6 定义模型"
   ]
  },
  {
   "cell_type": "code",
   "execution_count": 8,
   "id": "sixth-physics",
   "metadata": {},
   "outputs": [],
   "source": [
    "def net(X):\n",
    "    X = X.view((-1,num_inputs))\n",
    "    H = relu(torch.matmul(X,W1) + b1)\n",
    "    return torch.matmul(H,W2) +b2"
   ]
  },
  {
   "cell_type": "markdown",
   "id": "mature-evaluation",
   "metadata": {},
   "source": [
    "## 7 计算模型在测试数据集上的准确率"
   ]
  },
  {
   "cell_type": "code",
   "execution_count": 9,
   "id": "nasty-cookie",
   "metadata": {},
   "outputs": [],
   "source": [
    "def evaluate_accuracy(data_inter,net):\n",
    "    acc_num,n = 0.0,0\n",
    "    for X,y in data_inter:\n",
    "        acc_num+=(net(X).argmax(dim=1) == y).float().sum().item()\n",
    "        n += y.shape[0]\n",
    "    return acc_num/n"
   ]
  },
  {
   "cell_type": "markdown",
   "id": "controversial-devices",
   "metadata": {},
   "source": [
    "## 8 模型训练，保存训练集和验证集的loss"
   ]
  },
  {
   "cell_type": "code",
   "execution_count": 11,
   "id": "continent-pointer",
   "metadata": {},
   "outputs": [],
   "source": [
    "x_l = []\n",
    "train_loss = []\n",
    "test_loss = []"
   ]
  },
  {
   "cell_type": "code",
   "execution_count": 12,
   "id": "miniature-pension",
   "metadata": {},
   "outputs": [],
   "source": [
    "def train(net, train_iter, test_iter, loss, num_epochs, batch_size, params=None, lr=None, optimizer=None):\n",
    "    for epoch in range(num_epochs):\n",
    "        train_l_sum,test_l_sum, train_acc_sum, m, n = 0.0, 0.0, 0.0, 0, 0\n",
    "        for X, y in train_iter:\n",
    "            y_hat = net(X)\n",
    "            l = loss(y_hat, y).sum()\n",
    "            if optimizer is not None:\n",
    "                optimizer.zero_grad()\n",
    "            elif params is not None and params[0].grad is not None:\n",
    "                for param in params:\n",
    "                    param.grad.data.zero_()\n",
    "            l.backward()\n",
    "            if optimizer is None:\n",
    "                SGD(params, lr, batch_size)\n",
    "            else:\n",
    "                optimizer.step()\n",
    "            train_l_sum += l.item()\n",
    "            train_acc_sum += (y_hat.argmax(dim=1) == y).sum().item()\n",
    "            m += y.shape[0]\n",
    "        x_l.append(epoch + 1)\n",
    "        test_acc = evaluate_accuracy(test_iter, net)\n",
    "        train_loss.append(train_l_sum / m)\n",
    "        for X, y in test_iter:\n",
    "            y_hat = net(X)\n",
    "            l = loss(y_hat, y).sum()\n",
    "            test_l_sum += l.item()\n",
    "            n += y.shape[0]\n",
    "        test_loss.append(test_l_sum / n)\n",
    "        print('epoch %d, train loss %.4f, train acc %.3f, test loss %.4f, test acc %.3f'\n",
    "              % (epoch + 1, train_l_sum / m, train_acc_sum / m, test_l_sum/n, test_acc))"
   ]
  },
  {
   "cell_type": "code",
   "execution_count": 13,
   "id": "serial-circuit",
   "metadata": {},
   "outputs": [
    {
     "name": "stdout",
     "output_type": "stream",
     "text": [
      "epoch 1, train loss 0.0358, train acc 0.419, test loss 0.0358, test acc 0.582\n",
      "epoch 2, train loss 0.0355, train acc 0.607, test loss 0.0354, test acc 0.635\n",
      "epoch 3, train loss 0.0350, train acc 0.625, test loss 0.0347, test acc 0.635\n",
      "epoch 4, train loss 0.0341, train acc 0.621, test loss 0.0335, test acc 0.632\n",
      "epoch 5, train loss 0.0326, train acc 0.635, test loss 0.0317, test acc 0.645\n",
      "epoch 6, train loss 0.0305, train acc 0.655, test loss 0.0292, test acc 0.675\n",
      "epoch 7, train loss 0.0277, train acc 0.686, test loss 0.0261, test acc 0.703\n",
      "epoch 8, train loss 0.0246, train acc 0.708, test loss 0.0228, test acc 0.728\n",
      "epoch 9, train loss 0.0215, train acc 0.731, test loss 0.0199, test acc 0.753\n",
      "epoch 10, train loss 0.0189, train acc 0.756, test loss 0.0175, test acc 0.779\n",
      "epoch 11, train loss 0.0168, train acc 0.777, test loss 0.0156, test acc 0.795\n",
      "epoch 12, train loss 0.0151, train acc 0.796, test loss 0.0141, test acc 0.807\n",
      "epoch 13, train loss 0.0137, train acc 0.808, test loss 0.0129, test acc 0.817\n",
      "epoch 14, train loss 0.0127, train acc 0.819, test loss 0.0119, test acc 0.828\n",
      "epoch 15, train loss 0.0118, train acc 0.828, test loss 0.0111, test acc 0.835\n",
      "epoch 16, train loss 0.0111, train acc 0.833, test loss 0.0105, test acc 0.841\n",
      "epoch 17, train loss 0.0105, train acc 0.840, test loss 0.0100, test acc 0.847\n",
      "epoch 18, train loss 0.0100, train acc 0.845, test loss 0.0095, test acc 0.854\n",
      "epoch 19, train loss 0.0095, train acc 0.851, test loss 0.0091, test acc 0.858\n",
      "epoch 20, train loss 0.0092, train acc 0.855, test loss 0.0087, test acc 0.862\n",
      "epoch 21, train loss 0.0088, train acc 0.859, test loss 0.0084, test acc 0.865\n",
      "epoch 22, train loss 0.0086, train acc 0.863, test loss 0.0082, test acc 0.869\n",
      "epoch 23, train loss 0.0083, train acc 0.866, test loss 0.0079, test acc 0.873\n",
      "epoch 24, train loss 0.0081, train acc 0.869, test loss 0.0077, test acc 0.875\n",
      "epoch 25, train loss 0.0079, train acc 0.871, test loss 0.0075, test acc 0.878\n",
      "epoch 26, train loss 0.0077, train acc 0.874, test loss 0.0073, test acc 0.881\n",
      "epoch 27, train loss 0.0075, train acc 0.876, test loss 0.0072, test acc 0.882\n",
      "epoch 28, train loss 0.0074, train acc 0.878, test loss 0.0070, test acc 0.883\n",
      "epoch 29, train loss 0.0072, train acc 0.879, test loss 0.0069, test acc 0.885\n",
      "epoch 30, train loss 0.0071, train acc 0.881, test loss 0.0068, test acc 0.887\n"
     ]
    }
   ],
   "source": [
    "num_epochs = 30\n",
    "lr = 0.1\n",
    "train(net, train_loader, test_loader, loss, num_epochs, batch_size, params, lr)"
   ]
  },
  {
   "cell_type": "markdown",
   "id": "integrated-canal",
   "metadata": {},
   "source": [
    "## 9 绘制loss曲线"
   ]
  },
  {
   "cell_type": "code",
   "execution_count": 14,
   "id": "cleared-macintosh",
   "metadata": {},
   "outputs": [],
   "source": [
    "def Draw_Loss_Curve():\n",
    "    plt.figure(figsize=(15, 9))\n",
    "    plt.xlabel(\"epoch\")\n",
    "    plt.ylabel(\"loss\")\n",
    "    plt.title(\"Loss Function\")\n",
    "    plt.plot(x_l, train_loss, label=u'Train Loss')\n",
    "    plt.legend()\n",
    "    p2 = plt.plot(x_l, test_loss, label=u'Test Loss')\n",
    "    plt.legend()\n",
    "    plt.show()"
   ]
  },
  {
   "cell_type": "code",
   "execution_count": 15,
   "id": "alien-reminder",
   "metadata": {},
   "outputs": [
    {
     "data": {
      "image/png": "[encoded data removed]",
      "text/plain": [
       "<Figure size 1080x648 with 1 Axes>"
      ]
     },
     "metadata": {
      "needs_background": "light"
     },
     "output_type": "display_data"
    }
   ],
   "source": [
    "Draw_Loss_Curve()"
   ]
  },
  {
   "cell_type": "code",
   "execution_count": null,
   "id": "behind-bridge",
   "metadata": {},
   "outputs": [],
   "source": []
  }
 ],
 "metadata": {
  "kernelspec": {
   "display_name": "Python 3 (ipykernel)",
   "language": "python",
   "name": "python3"
  },
  "language_info": {
   "codemirror_mode": {
    "name": "ipython",
    "version": 3
   },
   "file_extension": ".py",
   "mimetype": "text/x-python",
   "name": "python",
   "nbconvert_exporter": "python",
   "pygments_lexer": "ipython3",
   "version": "3.9.6"
  }
 },
 "nbformat": 4,
 "nbformat_minor": 5
}
