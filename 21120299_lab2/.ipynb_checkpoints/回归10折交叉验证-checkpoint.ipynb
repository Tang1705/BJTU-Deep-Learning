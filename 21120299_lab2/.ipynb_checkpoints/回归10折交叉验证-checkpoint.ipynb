{
 "cells": [
  {
   "cell_type": "code",
   "execution_count": 1,
   "id": "chubby-desperate",
   "metadata": {},
   "outputs": [],
   "source": [
    "import torch\n",
    "import random\n",
    "import numpy as np\n",
    "import torch.nn as nn\n",
    "from torch.nn import init\n",
    "import torch.optim as optim"
   ]
  },
  {
   "cell_type": "code",
   "execution_count": 2,
   "id": "transparent-houston",
   "metadata": {},
   "outputs": [],
   "source": [
    "n_train, n_test, num_inputs,num_hiddens, num_outputs= 7000, 3000, 500, 256, 1\n",
    "true_w, true_b = torch.ones(num_inputs, 1) * 0.0056, 0.028\n",
    "features = torch.randn((n_train + n_test, num_inputs))\n",
    "labels = torch.matmul(features, true_w)+true_b\n",
    "labels += torch.tensor(np.random.normal(0, 0.001, size=labels.size()), dtype=torch.float)\n",
    "train_features, test_features = features[:n_train, :], features[n_train:, :]\n",
    "train_labels, test_labels = labels[:n_train], labels[n_train:]"
   ]
  },
  {
   "cell_type": "code",
   "execution_count": 3,
   "id": "several-cause",
   "metadata": {},
   "outputs": [],
   "source": [
    "def data_iter(batch_size, features, labels):\n",
    "    num_examples = len(features)\n",
    "    indices = list(range(num_examples))\n",
    "    random.shuffle(indices)\n",
    "    for i in range(0, num_examples, batch_size):\n",
    "        j = torch.LongTensor(indices[i: min(i + batch_size, num_examples)])\n",
    "        yield features.index_select(0, j), labels.index_select(0, j)"
   ]
  },
  {
   "cell_type": "code",
   "execution_count": 4,
   "id": "powered-stone",
   "metadata": {},
   "outputs": [],
   "source": [
    "loss = nn.MSELoss()"
   ]
  },
  {
   "cell_type": "code",
   "execution_count": 6,
   "id": "sonic-destruction",
   "metadata": {},
   "outputs": [],
   "source": [
    "class FlattenLayer(torch.nn.Module):\n",
    "    def __init__(self):\n",
    "        super(FlattenLayer, self).__init__()\n",
    "    def forward(self, x):\n",
    "        return x.view(x.shape[0], -1)\n",
    "net = nn.Sequential(\n",
    "    FlattenLayer(),\n",
    "    nn.Linear(500,256),\n",
    "    nn.ReLU(),\n",
    "    nn.Linear(256,1),\n",
    ")"
   ]
  },
  {
   "cell_type": "code",
   "execution_count": 7,
   "id": "gothic-laptop",
   "metadata": {},
   "outputs": [],
   "source": [
    "for params in net.parameters():\n",
    "    init.normal_(params,mean=0,std=0.01)"
   ]
  },
  {
   "cell_type": "code",
   "execution_count": 8,
   "id": "infectious-marathon",
   "metadata": {},
   "outputs": [],
   "source": [
    "lr = 0.01\n",
    "optimizer = optim.SGD(net.parameters(), lr=lr)"
   ]
  },
  {
   "cell_type": "code",
   "execution_count": 9,
   "id": "disturbed-stage",
   "metadata": {},
   "outputs": [],
   "source": [
    "#K折\n",
    "def get_kfold_data(k, i, X, y):\n",
    "    fold_size = X.shape[0] // k\n",
    "    val_start = i * fold_size\n",
    "    if i != k - 1:\n",
    "        val_end = (i + 1) * fold_size\n",
    "        X_valid, y_valid = X[val_start:val_end], y[val_start:val_end]\n",
    "        X_train = torch.cat((X[0:val_start], X[val_end:]), dim = 0)\n",
    "        y_train = torch.cat((y[0:val_start], y[val_end:]), dim = 0)\n",
    "    else:\n",
    "        X_valid, y_valid = X[val_start:], y[val_start:]\n",
    "        X_train = X[0:val_start]\n",
    "        y_train = y[0:val_start]\n",
    "    return X_train, y_train, X_valid, y_valid"
   ]
  },
  {
   "cell_type": "code",
   "execution_count": 10,
   "id": "revolutionary-hughes",
   "metadata": {},
   "outputs": [],
   "source": [
    "def k_fold(k, X_train, y_train):\n",
    "    train_loss_sum, valid_loss_sum = 0, 0\n",
    "    for i in range(k):\n",
    "        print('第', i + 1, '折验证结果')\n",
    "        data = get_kfold_data(k, i, X_train, y_train)\n",
    "        for params in net.parameters():\n",
    "            init.normal_(params, mean=0, std=0.01)\n",
    "        train_loss, val_loss= train(*data)\n",
    "        print('train loss:{:.4f}'.format(train_loss))\n",
    "        print('valid loss:{:.4f}'.format(val_loss))\n",
    "        train_loss_sum += train_loss\n",
    "        valid_loss_sum += val_loss\n",
    "    print('\\n', '最终10折交叉验证结果：')\n",
    "    print('ave_train_loss:{:.4f}'.format(train_loss_sum/k))\n",
    "    print('ave_valid_loss:{:.4f}'.format(valid_loss_sum/k))\n",
    "    return"
   ]
  },
  {
   "cell_type": "code",
   "execution_count": 11,
   "id": "geological-script",
   "metadata": {},
   "outputs": [],
   "source": [
    "batch_size = 128\n",
    "num_epochs = 5\n",
    "\n",
    "xzhou = []\n",
    "y_train_loss = []\n",
    "y_test_loss = []\n",
    "def train(train_features, train_labels, test_features, test_labels):\n",
    "    for epoch in range(num_epochs):\n",
    "        for x, y in data_iter(batch_size, train_features, train_labels):\n",
    "            l = loss(net(x), y).sum()\n",
    "            if optimizer is not None:\n",
    "                optimizer.zero_grad()\n",
    "            elif params is not None and params[0].grad is not None:\n",
    "                for param in params:\n",
    "                    param.grad.data.zero_()\n",
    "            l.backward()\n",
    "            optimizer.step()\n",
    "        train_l = loss(net(train_features), train_labels)\n",
    "        test_l = loss(net(test_features), test_labels)\n",
    "        xzhou.append(epoch + 1)\n",
    "        y_train_loss.append(train_l.mean().item())\n",
    "        y_test_loss.append(test_l.mean().item())\n",
    "    return y_train_loss[num_epochs-1], y_test_loss[num_epochs-1]"
   ]
  },
  {
   "cell_type": "code",
   "execution_count": 12,
   "id": "processed-stereo",
   "metadata": {},
   "outputs": [
    {
     "name": "stdout",
     "output_type": "stream",
     "text": [
      "第 1 折验证结果\n",
      "train loss:0.0141\n",
      "valid loss:0.0133\n",
      "第 2 折验证结果\n",
      "train loss:0.0141\n",
      "valid loss:0.0133\n",
      "第 3 折验证结果\n",
      "train loss:0.0141\n",
      "valid loss:0.0133\n",
      "第 4 折验证结果\n",
      "train loss:0.0141\n",
      "valid loss:0.0133\n",
      "第 5 折验证结果\n",
      "train loss:0.0141\n",
      "valid loss:0.0133\n",
      "第 6 折验证结果\n",
      "train loss:0.0141\n",
      "valid loss:0.0133\n",
      "第 7 折验证结果\n",
      "train loss:0.0141\n",
      "valid loss:0.0133\n",
      "第 8 折验证结果\n",
      "train loss:0.0141\n",
      "valid loss:0.0133\n",
      "第 9 折验证结果\n",
      "train loss:0.0141\n",
      "valid loss:0.0133\n",
      "第 10 折验证结果\n",
      "train loss:0.0141\n",
      "valid loss:0.0133\n",
      "\n",
      " 最终10折交叉验证结果：\n",
      "ave_train_loss:0.0141\n",
      "ave_valid_loss:0.0133\n"
     ]
    }
   ],
   "source": [
    "k_fold(10, train_features, train_labels)"
   ]
  },
  {
   "cell_type": "code",
   "execution_count": null,
   "id": "happy-removal",
   "metadata": {},
   "outputs": [],
   "source": []
  }
 ],
 "metadata": {
  "kernelspec": {
   "display_name": "Python 3 (ipykernel)",
   "language": "python",
   "name": "python3"
  },
  "language_info": {
   "codemirror_mode": {
    "name": "ipython",
    "version": 3
   },
   "file_extension": ".py",
   "mimetype": "text/x-python",
   "name": "python",
   "nbconvert_exporter": "python",
   "pygments_lexer": "ipython3",
   "version": "3.9.6"
  }
 },
 "nbformat": 4,
 "nbformat_minor": 5
}
