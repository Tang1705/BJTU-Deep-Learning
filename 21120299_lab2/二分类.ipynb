{
 "cells": [
  {
   "cell_type": "markdown",
   "id": "fallen-workshop",
   "metadata": {},
   "source": [
    "# 手动实现前馈神经网络解决二分类任务"
   ]
  },
  {
   "cell_type": "code",
   "execution_count": 1,
   "id": "racial-portal",
   "metadata": {},
   "outputs": [],
   "source": [
    "import torch\n",
    "import numpy as np\n",
    "from torch import nn\n",
    "from matplotlib import pyplot as plt"
   ]
  },
  {
   "cell_type": "markdown",
   "id": "heavy-engineering",
   "metadata": {},
   "source": [
    "## 1 手动生成二分类任务的数据集"
   ]
  },
  {
   "cell_type": "markdown",
   "id": "blocked-causing",
   "metadata": {},
   "source": [
    "共生成两个数据集，大小均为10000且训练集大小为7000，测试集大小为3000。两个数据集的样本特征x的维度均为200，且分别服从均值互为相反数且方差相同的正态分布。两个数据集的样本标签分别为0和1。"
   ]
  },
  {
   "cell_type": "code",
   "execution_count": 2,
   "id": "hindu-house",
   "metadata": {},
   "outputs": [],
   "source": [
    "num_train, num_test,num_inputs, num_hiddens, num_outputs = 7000, 3000, 200, 100, 2\n",
    "x1 = torch.tensor(np.random.normal(1, 4, [num_train+num_test, num_inputs]), dtype=torch.float)\n",
    "y1 = torch.ones(num_train+num_test, dtype=torch.long)\n",
    "x2 = torch.tensor(np.random.normal(-1, 4, [num_train+num_test, num_inputs]), dtype=torch.float)\n",
    "y2 = torch.zeros(num_train+num_test, dtype=torch.long)\n",
    "# 划分训练集测试集\n",
    "train_data = torch.cat((x1[:num_train,:], x2[:num_train,:]),0)\n",
    "train_label = torch.cat((y1[:num_train], y2[:num_train]),0)\n",
    "test_data = torch.cat((x1[num_train:,:], x2[num_train:,:]),0)\n",
    "test_label = torch.cat((y1[num_train:], y2[num_train:]),0)"
   ]
  },
  {
   "cell_type": "markdown",
   "id": "judicial-spectacular",
   "metadata": {},
   "source": [
    "## 2 采用 torch.utils.data.DataLoader 读取小批量数据"
   ]
  },
  {
   "cell_type": "code",
   "execution_count": 3,
   "id": "union-guard",
   "metadata": {},
   "outputs": [],
   "source": [
    "batch_size = 256\n",
    "train_data_load = torch.utils.data.TensorDataset(train_data, train_label)\n",
    "train_iter = torch.utils.data.DataLoader(train_data_load, batch_size, shuffle=True)\n",
    "test_data_load = torch.utils.data.TensorDataset(test_data, test_label)\n",
    "test_iter = torch.utils.data.DataLoader(test_data_load, batch_size, shuffle=True)"
   ]
  },
  {
   "cell_type": "markdown",
   "id": "chief-australia",
   "metadata": {},
   "source": [
    "## 3 模型参数定义及初始化"
   ]
  },
  {
   "cell_type": "code",
   "execution_count": 4,
   "id": "continuous-sarah",
   "metadata": {},
   "outputs": [],
   "source": [
    "W1 = torch.tensor(np.random.normal(0, 0.01, (num_hiddens, num_inputs)), dtype=torch.float)\n",
    "b1 = torch.zeros(num_hiddens, dtype=torch.float)\n",
    "W2 = torch.tensor(np.random.normal(0, 0.01, (num_outputs, num_hiddens)), dtype=torch.float)\n",
    "b2 = torch.zeros(num_outputs, dtype=torch.float)\n",
    "params = [W1, b1, W2, b2]"
   ]
  },
  {
   "cell_type": "code",
   "execution_count": 5,
   "id": "hired-ribbon",
   "metadata": {},
   "outputs": [],
   "source": [
    "for param in params:\n",
    "    param.requires_grad_(requires_grad=True)"
   ]
  },
  {
   "cell_type": "markdown",
   "id": "favorite-polyester",
   "metadata": {},
   "source": [
    "## 4 定义激活函数"
   ]
  },
  {
   "cell_type": "code",
   "execution_count": 6,
   "id": "chicken-teaching",
   "metadata": {},
   "outputs": [],
   "source": [
    "def relu(x):\n",
    "    return torch.max(input=x,other=torch.tensor(0.0))"
   ]
  },
  {
   "cell_type": "markdown",
   "id": "numeric-career",
   "metadata": {},
   "source": [
    "## 5 定义交叉熵损失函数"
   ]
  },
  {
   "cell_type": "code",
   "execution_count": 7,
   "id": "cosmetic-raising",
   "metadata": {},
   "outputs": [],
   "source": [
    "loss = torch.nn.CrossEntropyLoss()"
   ]
  },
  {
   "cell_type": "markdown",
   "id": "labeled-silicon",
   "metadata": {},
   "source": [
    "## 6 定义随机梯度下降函数"
   ]
  },
  {
   "cell_type": "code",
   "execution_count": 8,
   "id": "active-springer",
   "metadata": {},
   "outputs": [],
   "source": [
    "def sgd(params, lr, batch_size):\n",
    "    for param in params:\n",
    "        param.data -= lr*param.grad / batch_size"
   ]
  },
  {
   "cell_type": "markdown",
   "id": "urban-michael",
   "metadata": {},
   "source": [
    "## 7 定义模型"
   ]
  },
  {
   "cell_type": "code",
   "execution_count": 9,
   "id": "complex-success",
   "metadata": {},
   "outputs": [],
   "source": [
    "def classification(X):\n",
    "    X=X.view((-1,num_inputs))\n",
    "    H = relu(torch.matmul(X, W1.t()) + b1)\n",
    "    return torch.matmul(H,W2.t())+b2"
   ]
  },
  {
   "cell_type": "markdown",
   "id": "blank-characterization",
   "metadata": {},
   "source": [
    "## 8 计算模型在测试数据集上的准确率"
   ]
  },
  {
   "cell_type": "code",
   "execution_count": 10,
   "id": "closed-calgary",
   "metadata": {},
   "outputs": [],
   "source": [
    "def evaluate_accuracy(data_iter, net):\n",
    "    acc_num, n = 0.0, 0\n",
    "    for X, y in data_iter:\n",
    "        acc_num += (net(X).argmax(dim=1) == y).float().sum().item()  #预测正确的总数\n",
    "        n += y.shape[0]\n",
    "    return acc_num/n"
   ]
  },
  {
   "cell_type": "markdown",
   "id": "novel-premises",
   "metadata": {},
   "source": [
    "## 9 模型训练，保存训练集的loss"
   ]
  },
  {
   "cell_type": "code",
   "execution_count": 11,
   "id": "utility-master",
   "metadata": {},
   "outputs": [
    {
     "name": "stdout",
     "output_type": "stream",
     "text": [
      "epoch: 0, train_loss=0.6867, train_acc=0.5004, test_loss=0.6869, test_acc=0.5795\n",
      "epoch: 10, train_loss=0.5081, train_acc=0.9946, test_loss=0.5096, test_acc=0.9977\n",
      "epoch: 20, train_loss=0.2308, train_acc=0.9990, test_loss=0.2334, test_acc=0.9997\n",
      "epoch: 30, train_loss=0.1061, train_acc=0.9996, test_loss=0.1085, test_acc=0.9998\n",
      "epoch: 40, train_loss=0.0622, train_acc=0.9996, test_loss=0.0641, test_acc=0.9998\n",
      "epoch: 50, train_loss=0.0426, train_acc=0.9998, test_loss=0.0443, test_acc=0.9998\n",
      "epoch: 60, train_loss=0.0321, train_acc=0.9999, test_loss=0.0335, test_acc=0.9998\n",
      "epoch: 70, train_loss=0.0257, train_acc=0.9999, test_loss=0.0269, test_acc=0.9998\n",
      "epoch: 80, train_loss=0.0213, train_acc=0.9999, test_loss=0.0225, test_acc=0.9998\n",
      "epoch: 90, train_loss=0.0183, train_acc=0.9999, test_loss=0.0193, test_acc=0.9998\n"
     ]
    }
   ],
   "source": [
    "net = classification\n",
    "x_l = []\n",
    "train_loss =[]\n",
    "test_loss = []\n",
    "num_epochs, lr = 100, 0.1\n",
    "for epoch in range(num_epochs):\n",
    "    train_l_sum, train_acc_sum, n = 0.0, 0.0, 0\n",
    "    for X,y in train_iter:\n",
    "        y_hat = net(X)\n",
    "        l = loss(y_hat, y).sum() # 计算loss\n",
    "        l.backward() # 误差反向传播\n",
    "        sgd(params, lr, batch_size)  # sgd优化\n",
    "        for param in params:\n",
    "            param.grad.data.zero_()\n",
    "        train_acc_sum += (y_hat.argmax(dim=1) == y).sum().item()\n",
    "        n += y.shape[0]\n",
    "    train_l = loss(net(train_data), train_label)\n",
    "    test_l = loss(net(test_data), test_label)\n",
    "    x_l.append(epoch + 1)\n",
    "    train_loss.append(train_l.mean().item())\n",
    "    test_loss.append(test_l.mean().item())\n",
    "    test_acc = evaluate_accuracy(test_iter, net)\n",
    "    if epoch%10 == 0:\n",
    "        print(\"epoch: {}, train_loss={:.4f}, train_acc={:.4f}, test_loss={:.4f}, test_acc={:.4f}\".format(epoch, train_l.mean().item(), train_acc_sum/n, test_l.mean(), test_acc))"
   ]
  },
  {
   "cell_type": "markdown",
   "id": "impressive-farming",
   "metadata": {},
   "source": [
    "## 10 绘制loss曲线"
   ]
  },
  {
   "cell_type": "code",
   "execution_count": 14,
   "id": "extreme-bottle",
   "metadata": {},
   "outputs": [],
   "source": [
    "def Draw_Loss_Curve():\n",
    "    plt.figure(figsize=(15, 9))\n",
    "    plt.xlabel(\"epoch\")\n",
    "    plt.ylabel(\"loss\")\n",
    "    plt.title(\"Loss Function\")\n",
    "    plt.plot(x_l, train_loss, label=u'Train Loss')\n",
    "    plt.legend()\n",
    "    p2 = plt.plot(x_l, test_loss, label=u'Test Loss')\n",
    "    plt.legend()\n",
    "    plt.show()"
   ]
  },
  {
   "cell_type": "code",
   "execution_count": 15,
   "id": "professional-optimum",
   "metadata": {},
   "outputs": [
    {
     "data": {
      "image/png": "[encoded data removed]",
      "text/plain": [
       "<Figure size 1080x648 with 1 Axes>"
      ]
     },
     "metadata": {
      "needs_background": "light"
     },
     "output_type": "display_data"
    }
   ],
   "source": [
    "Draw_Loss_Curve()"
   ]
  },
  {
   "cell_type": "code",
   "execution_count": null,
   "id": "celtic-disclosure",
   "metadata": {},
   "outputs": [],
   "source": []
  }
 ],
 "metadata": {
  "kernelspec": {
   "display_name": "Python 3 (ipykernel)",
   "language": "python",
   "name": "python3"
  },
  "language_info": {
   "codemirror_mode": {
    "name": "ipython",
    "version": 3
   },
   "file_extension": ".py",
   "mimetype": "text/x-python",
   "name": "python",
   "nbconvert_exporter": "python",
   "pygments_lexer": "ipython3",
   "version": "3.9.6"
  }
 },
 "nbformat": 4,
 "nbformat_minor": 5
}
