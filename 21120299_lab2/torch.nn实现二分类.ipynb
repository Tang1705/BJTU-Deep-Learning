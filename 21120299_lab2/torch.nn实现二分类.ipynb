{
 "cells": [
  {
   "cell_type": "markdown",
   "id": "informative-spread",
   "metadata": {},
   "source": [
    "# 利用 torch.nn 实现前馈神经网络解决二分类任务"
   ]
  },
  {
   "cell_type": "code",
   "execution_count": 1,
   "id": "revolutionary-double",
   "metadata": {},
   "outputs": [],
   "source": [
    "import torch\n",
    "import torch.nn as nn\n",
    "import torch.optim as optim\n",
    "from torch.utils import data\n",
    "import matplotlib.pyplot as plt\n",
    "import numpy as np"
   ]
  },
  {
   "cell_type": "markdown",
   "id": "unlike-benefit",
   "metadata": {},
   "source": [
    "## 1 手动生成二分类任务的数据集"
   ]
  },
  {
   "cell_type": "code",
   "execution_count": 2,
   "id": "fuzzy-worker",
   "metadata": {},
   "outputs": [],
   "source": [
    "num_train, num_test,num_inputs, num_hiddens, num_outputs = 7000, 3000, 200, 100, 2\n",
    "data1 = torch.tensor(np.random.normal(1, 4, [num_train+num_test, num_inputs]), dtype=torch.float)\n",
    "label1 = torch.ones(num_train+num_test, dtype=torch.long)\n",
    "data2 = torch.tensor(np.random.normal(-1, 4, [num_train+num_test, num_inputs]), dtype=torch.float)\n",
    "label2 = torch.zeros(num_train+num_test, dtype=torch.long)\n",
    "# 划分训练集测试集\n",
    "train_data = torch.cat((data1[:num_train,:], data2[:num_train,:]),0)\n",
    "train_label = torch.cat((label1[:num_train], label2[:num_train]),0)\n",
    "test_data = torch.cat((data1[num_train:,:], data2[num_train:,:]),0)\n",
    "test_label = torch.cat((label1[num_train:], label2[num_train:]),0)"
   ]
  },
  {
   "cell_type": "markdown",
   "id": "spread-attribute",
   "metadata": {},
   "source": [
    "## 2 采用 torch.utils.data.DataLoader 读取小批量数据"
   ]
  },
  {
   "cell_type": "code",
   "execution_count": 3,
   "id": "affecting-adaptation",
   "metadata": {},
   "outputs": [],
   "source": [
    "batch_size = 256\n",
    "train_data_load = torch.utils.data.TensorDataset(train_data, train_label)\n",
    "train_iter = torch.utils.data.DataLoader(train_data_load, batch_size, shuffle=True)\n",
    "test_data_load = torch.utils.data.TensorDataset(test_data, test_label)\n",
    "test_iter = torch.utils.data.DataLoader(test_data_load, batch_size, shuffle=True)"
   ]
  },
  {
   "cell_type": "markdown",
   "id": "worst-adventure",
   "metadata": {},
   "source": [
    "## 3 模型定义及参数初始化"
   ]
  },
  {
   "cell_type": "code",
   "execution_count": 4,
   "id": "lovely-imaging",
   "metadata": {},
   "outputs": [],
   "source": [
    "class FlattenLayer(nn.Module):\n",
    "    def __init__(self):\n",
    "        super(FlattenLayer, self).__init__()\n",
    "    def forward(self, x):\n",
    "        return x.view(x.shape[0],-1)\n",
    "net = nn.Sequential(\n",
    "    FlattenLayer(),\n",
    "    nn.Linear(num_inputs, num_hiddens),\n",
    "    nn.ReLU(),\n",
    "    nn.Linear(num_hiddens, num_outputs)\n",
    "    )"
   ]
  },
  {
   "cell_type": "code",
   "execution_count": 5,
   "id": "daily-ballet",
   "metadata": {},
   "outputs": [],
   "source": [
    "for param in net.parameters():\n",
    "    nn.init.normal_(param, mean=0, std=0.01)"
   ]
  },
  {
   "cell_type": "markdown",
   "id": "encouraging-dutch",
   "metadata": {},
   "source": [
    "## 4 定义交叉熵损失函数"
   ]
  },
  {
   "cell_type": "code",
   "execution_count": 6,
   "id": "pending-telling",
   "metadata": {},
   "outputs": [],
   "source": [
    "loss = nn.CrossEntropyLoss()"
   ]
  },
  {
   "cell_type": "markdown",
   "id": "included-truth",
   "metadata": {},
   "source": [
    "## 5 定义随机梯度下降函数"
   ]
  },
  {
   "cell_type": "code",
   "execution_count": 7,
   "id": "periodic-banking",
   "metadata": {},
   "outputs": [],
   "source": [
    "lr = 0.1\n",
    "optimizer = optim.SGD(net.parameters(), lr=lr)"
   ]
  },
  {
   "cell_type": "markdown",
   "id": "opening-beatles",
   "metadata": {},
   "source": [
    "## 6 计算模型在测试数据集上的准确率"
   ]
  },
  {
   "cell_type": "code",
   "execution_count": 8,
   "id": "original-mineral",
   "metadata": {},
   "outputs": [],
   "source": [
    "def evaluate_accuracy(data_inter,net,loss):\n",
    "    acc_num,n = 0.0,0\n",
    "    test_l_sum = 0.0\n",
    "    for X,y in data_inter:\n",
    "        acc_num+=(net(X).argmax(dim=1) == y).float().sum().item()\n",
    "        l = loss(net(X),y).sum()\n",
    "        test_l_sum+=l.item()\n",
    "        n += y.shape[0]\n",
    "    return acc_num/n,test_l_sum/n"
   ]
  },
  {
   "cell_type": "markdown",
   "id": "fifty-mailman",
   "metadata": {},
   "source": [
    "## 7 模型训练，保存训练集和验证集的loss"
   ]
  },
  {
   "cell_type": "code",
   "execution_count": 9,
   "id": "sticky-passport",
   "metadata": {},
   "outputs": [],
   "source": [
    "x_l = []\n",
    "train_loss = []\n",
    "test_loss = []"
   ]
  },
  {
   "cell_type": "code",
   "execution_count": 10,
   "id": "foreign-camping",
   "metadata": {},
   "outputs": [],
   "source": [
    "def train(net, train_iter, test_iter, loss, num_epochs, batch_size, params=None, lr=None, optimizer=None):\n",
    "    for epoch in range(num_epochs):\n",
    "        train_l_sum, train_acc_sum, n = 0.0, 0.0, 0\n",
    "        for X, y in train_iter:\n",
    "            y_hat = net(X)\n",
    "            l = loss(y_hat, y).sum()\n",
    "            if optimizer is not None:\n",
    "                optimizer.zero_grad()\n",
    "            elif params is not None and params[0].grad is not None:\n",
    "                for param in params:\n",
    "                    param.grad.data.zero_()\n",
    "            l.backward()\n",
    "            if optimizer is None:\n",
    "                optimizer = torch.optim.SGD(net.parameters(), lr=0.1)  # 学习率自适应的优化算法\n",
    "            else:\n",
    "                optimizer.step()\n",
    "            train_l_sum += l.item()\n",
    "            train_acc_sum += (y_hat.argmax(dim=1) == y).sum().item()\n",
    "            n += y.shape[0]\n",
    "        test_acc,test_l = evaluate_accuracy(test_iter, net,loss)\n",
    "        x_l.append(epoch + 1)\n",
    "        train_loss.append(train_l_sum / n)\n",
    "        test_loss.append(test_l)\n",
    "        if (epoch+1)%5==0:\n",
    "            print('epoch %d, train_loss %.6f, train acc %.3f, test_loss %.6f, test acc %.3f'\n",
    "              % (epoch + 1, train_l_sum / n, train_acc_sum / n, test_l, test_acc))"
   ]
  },
  {
   "cell_type": "code",
   "execution_count": 11,
   "id": "simplified-concord",
   "metadata": {},
   "outputs": [
    {
     "name": "stdout",
     "output_type": "stream",
     "text": [
      "epoch 5, train_loss 0.000005, train acc 1.000, test_loss 0.000009, test acc 1.000\n",
      "epoch 10, train_loss 0.000002, train acc 1.000, test_loss 0.000007, test acc 1.000\n",
      "epoch 15, train_loss 0.000001, train acc 1.000, test_loss 0.000007, test acc 1.000\n",
      "epoch 20, train_loss 0.000001, train acc 1.000, test_loss 0.000009, test acc 1.000\n",
      "epoch 25, train_loss 0.000001, train acc 1.000, test_loss 0.000007, test acc 1.000\n",
      "epoch 30, train_loss 0.000001, train acc 1.000, test_loss 0.000006, test acc 1.000\n"
     ]
    }
   ],
   "source": [
    "num_epochs = 30\n",
    "train(net, train_iter, test_iter, loss, num_epochs, batch_size, net.parameters(), lr, optimizer)"
   ]
  },
  {
   "cell_type": "markdown",
   "id": "minimal-insured",
   "metadata": {},
   "source": [
    "## 8 绘制loss曲线"
   ]
  },
  {
   "cell_type": "code",
   "execution_count": 12,
   "id": "solved-context",
   "metadata": {},
   "outputs": [],
   "source": [
    "def Draw_Loss_Curve():\n",
    "    plt.figure(figsize=(15, 9))\n",
    "    plt.xlabel(\"epoch\")\n",
    "    plt.ylabel(\"loss\")\n",
    "    plt.title(\"Loss Function\")\n",
    "    plt.plot(x_l, train_loss, label=u'Train Loss')\n",
    "    plt.legend()\n",
    "    p2 = plt.plot(x_l, test_loss, label=u'Test Loss')\n",
    "    plt.legend()\n",
    "    plt.show()"
   ]
  },
  {
   "cell_type": "code",
   "execution_count": 13,
   "id": "widespread-filling",
   "metadata": {},
   "outputs": [
    {
     "data": {
      "image/png": "[encoded data removed]",
      "text/plain": [
       "<Figure size 1080x648 with 1 Axes>"
      ]
     },
     "metadata": {
      "needs_background": "light"
     },
     "output_type": "display_data"
    }
   ],
   "source": [
    "Draw_Loss_Curve()"
   ]
  },
  {
   "cell_type": "code",
   "execution_count": null,
   "id": "binary-leone",
   "metadata": {},
   "outputs": [],
   "source": []
  }
 ],
 "metadata": {
  "kernelspec": {
   "display_name": "Python 3 (ipykernel)",
   "language": "python",
   "name": "python3"
  },
  "language_info": {
   "codemirror_mode": {
    "name": "ipython",
    "version": 3
   },
   "file_extension": ".py",
   "mimetype": "text/x-python",
   "name": "python",
   "nbconvert_exporter": "python",
   "pygments_lexer": "ipython3",
   "version": "3.9.6"
  }
 },
 "nbformat": 4,
 "nbformat_minor": 5
}
